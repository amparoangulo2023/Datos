{
 "cells": [
  {
   "cell_type": "markdown",
   "id": "c36fc143",
   "metadata": {},
   "source": [
    "***"
   ]
  },
  {
   "cell_type": "markdown",
   "id": "573b2aa3",
   "metadata": {},
   "source": [
    "**<center><font size = \"5\">Synthetic Data Notebook<center>**\n",
    "***\n",
    "<center><font size = \"2\">Prepared by: Kurt Klingensmith<center>"
   ]
  },
  {
   "cell_type": "markdown",
   "id": "6a068246",
   "metadata": {},
   "source": [
    "***"
   ]
  },
  {
   "cell_type": "markdown",
   "id": "d379f441",
   "metadata": {},
   "source": [
    "# Notebook Setup"
   ]
  },
  {
   "cell_type": "markdown",
   "id": "0f0ffbd4",
   "metadata": {},
   "source": [
    "## Libraries:"
   ]
  },
  {
   "cell_type": "code",
   "execution_count": 52,
   "id": "fa87cd50",
   "metadata": {},
   "outputs": [],
   "source": [
    "# Data Handling\n",
    "import pandas as pd\n",
    "import numpy as np\n",
    "\n",
    "# Data visualization\n",
    "import plotly.express as px\n",
    "\n",
    "%config InlineBackend.figure_format='retina'"
   ]
  },
  {
   "cell_type": "code",
   "execution_count": 53,
   "id": "7e208580",
   "metadata": {},
   "outputs": [
    {
     "data": {
      "text/html": [
       "<div>\n",
       "<style scoped>\n",
       "    .dataframe tbody tr th:only-of-type {\n",
       "        vertical-align: middle;\n",
       "    }\n",
       "\n",
       "    .dataframe tbody tr th {\n",
       "        vertical-align: top;\n",
       "    }\n",
       "\n",
       "    .dataframe thead th {\n",
       "        text-align: right;\n",
       "    }\n",
       "</style>\n",
       "<table border=\"1\" class=\"dataframe\">\n",
       "  <thead>\n",
       "    <tr style=\"text-align: right;\">\n",
       "      <th></th>\n",
       "      <th>Student</th>\n",
       "      <th>Age</th>\n",
       "    </tr>\n",
       "  </thead>\n",
       "  <tbody>\n",
       "    <tr>\n",
       "      <th>0</th>\n",
       "      <td>Daisy Payne</td>\n",
       "      <td>23</td>\n",
       "    </tr>\n",
       "    <tr>\n",
       "      <th>1</th>\n",
       "      <td>Emily Lopez</td>\n",
       "      <td>24</td>\n",
       "    </tr>\n",
       "    <tr>\n",
       "      <th>2</th>\n",
       "      <td>Brittany Shaw</td>\n",
       "      <td>23</td>\n",
       "    </tr>\n",
       "    <tr>\n",
       "      <th>3</th>\n",
       "      <td>Benjamin Bell</td>\n",
       "      <td>21</td>\n",
       "    </tr>\n",
       "    <tr>\n",
       "      <th>4</th>\n",
       "      <td>Blake Browning</td>\n",
       "      <td>23</td>\n",
       "    </tr>\n",
       "  </tbody>\n",
       "</table>\n",
       "</div>"
      ],
      "text/plain": [
       "          Student  Age\n",
       "0     Daisy Payne   23\n",
       "1     Emily Lopez   24\n",
       "2   Brittany Shaw   23\n",
       "3   Benjamin Bell   21\n",
       "4  Blake Browning   23"
      ]
     },
     "execution_count": 53,
     "metadata": {},
     "output_type": "execute_result"
    }
   ],
   "source": [
    "# Anonymizer:\n",
    "from faker import Faker\n",
    "faker = Faker()\n",
    "\n",
    "# Create a list of Students:\n",
    "fake_names = [faker.name() for x in range (100)]\n",
    "df = pd.DataFrame(fake_names, columns = ['Student'])\n",
    "\n",
    "# Add age:\n",
    "df['Age'] = np.random.randint(20, 25, df.shape[0])\n",
    "\n",
    "df.head()"
   ]
  },
  {
   "cell_type": "code",
   "execution_count": 54,
   "id": "d05cfa88",
   "metadata": {},
   "outputs": [
    {
     "data": {
      "text/html": [
       "<div>\n",
       "<style scoped>\n",
       "    .dataframe tbody tr th:only-of-type {\n",
       "        vertical-align: middle;\n",
       "    }\n",
       "\n",
       "    .dataframe tbody tr th {\n",
       "        vertical-align: top;\n",
       "    }\n",
       "\n",
       "    .dataframe thead th {\n",
       "        text-align: right;\n",
       "    }\n",
       "</style>\n",
       "<table border=\"1\" class=\"dataframe\">\n",
       "  <thead>\n",
       "    <tr style=\"text-align: right;\">\n",
       "      <th></th>\n",
       "      <th>Student</th>\n",
       "      <th>Age</th>\n",
       "      <th>ClassSession</th>\n",
       "    </tr>\n",
       "  </thead>\n",
       "  <tbody>\n",
       "    <tr>\n",
       "      <th>0</th>\n",
       "      <td>Daisy Payne</td>\n",
       "      <td>23</td>\n",
       "      <td>Evening</td>\n",
       "    </tr>\n",
       "    <tr>\n",
       "      <th>1</th>\n",
       "      <td>Emily Lopez</td>\n",
       "      <td>24</td>\n",
       "      <td>Morning</td>\n",
       "    </tr>\n",
       "    <tr>\n",
       "      <th>2</th>\n",
       "      <td>Brittany Shaw</td>\n",
       "      <td>23</td>\n",
       "      <td>Evening</td>\n",
       "    </tr>\n",
       "    <tr>\n",
       "      <th>3</th>\n",
       "      <td>Benjamin Bell</td>\n",
       "      <td>21</td>\n",
       "      <td>Evening</td>\n",
       "    </tr>\n",
       "    <tr>\n",
       "      <th>4</th>\n",
       "      <td>Blake Browning</td>\n",
       "      <td>23</td>\n",
       "      <td>Evening</td>\n",
       "    </tr>\n",
       "  </tbody>\n",
       "</table>\n",
       "</div>"
      ],
      "text/plain": [
       "          Student  Age ClassSession\n",
       "0     Daisy Payne   23      Evening\n",
       "1     Emily Lopez   24      Morning\n",
       "2   Brittany Shaw   23      Evening\n",
       "3   Benjamin Bell   21      Evening\n",
       "4  Blake Browning   23      Evening"
      ]
     },
     "execution_count": 54,
     "metadata": {},
     "output_type": "execute_result"
    }
   ],
   "source": [
    "# Define Class Session:\n",
    "testTime = ['Morning', 'Afternoon', 'Evening']\n",
    "df['ClassSession'] = np.random.choice(testTime, size=len(df))\n",
    "\n",
    "df.head()"
   ]
  },
  {
   "cell_type": "code",
   "execution_count": 55,
   "id": "1728d9ff",
   "metadata": {},
   "outputs": [],
   "source": [
    "# Morning Score Test 1:\n",
    "\n",
    "low = 0\n",
    "high = 100\n",
    "\n",
    "mean = 85\n",
    "scale = 8\n",
    "size = len(df[df['ClassSession'] == 'Morning'])\n",
    "\n",
    "values = np.random.normal(mean, scale, size)\n",
    "df.loc[df['ClassSession'] == 'Morning', 'Test1'] = np.clip(values, low, high).astype(int)\n",
    "\n",
    "# Morning Score Test 2:\n",
    "\n",
    "mean = 74\n",
    "scale = 7\n",
    "size = len(df[df['ClassSession'] == 'Morning'])\n",
    "\n",
    "values = np.random.normal(mean, scale, size)\n",
    "df.loc[df['ClassSession'] == 'Morning', 'Test2'] = np.clip(values, low, high).astype(int)\n",
    "\n",
    "# Morning Score Test 3:\n",
    "\n",
    "mean = 89\n",
    "scale = 5\n",
    "size = len(df[df['ClassSession'] == 'Morning'])\n",
    "\n",
    "values = np.random.normal(mean, scale, size)\n",
    "df.loc[df['ClassSession'] == 'Morning', 'Test3'] = np.clip(values, low, high).astype(int)"
   ]
  },
  {
   "cell_type": "code",
   "execution_count": 56,
   "id": "36b20973",
   "metadata": {},
   "outputs": [
    {
     "data": {
      "image/png": "[encoded data removed]",
      "text/plain": [
       "<Figure size 1080x648 with 1 Axes>"
      ]
     },
     "metadata": {
      "image/png": {
       "height": 520,
       "width": 894
      },
      "needs_background": "light"
     },
     "output_type": "display_data"
    }
   ],
   "source": [
    "# Show example of Morning Session test score distribution: \n",
    "morningScores = df[df['ClassSession'] == 'Morning'][['Test1', 'Test2', 'Test3']]\n",
    "\n",
    "morningScores.plot.kde(figsize=(15,9));"
   ]
  },
  {
   "cell_type": "code",
   "execution_count": 57,
   "id": "dfb12c1d",
   "metadata": {
    "scrolled": false
   },
   "outputs": [
    {
     "data": {
      "application/vnd.plotly.v1+json": {
       "config": {
        "plotlyServerURL": "https://plotly.com"
       },
       "data": [
        {
         "alignmentgroup": "True",
         "bingroup": "x",
         "hovertemplate": "variable=Test1<br>value=%{x}<br>count=%{y}<extra></extra>",
         "legendgroup": "Test1",
         "marker": {
          "color": "#636efa",
          "pattern": {
           "shape": ""
          }
         },
         "name": "Test1",
         "nbinsx": 32,
         "offsetgroup": "Test1",
         "orientation": "v",
         "showlegend": true,
         "type": "histogram",
         "x": [
          92,
          80,
          76,
          82,
          98,
          78,
          78,
          86,
          72,
          70,
          87,
          89,
          89,
          91,
          87,
          83,
          76,
          81,
          85,
          72,
          72,
          82,
          83,
          86,
          81,
          77,
          82,
          90,
          76,
          92,
          80,
          90
         ],
         "xaxis": "x",
         "yaxis": "y"
        },
        {
         "alignmentgroup": "True",
         "bingroup": "x",
         "hovertemplate": "variable=Test2<br>value=%{x}<br>count=%{y}<extra></extra>",
         "legendgroup": "Test2",
         "marker": {
          "color": "#EF553B",
          "pattern": {
           "shape": ""
          }
         },
         "name": "Test2",
         "nbinsx": 32,
         "offsetgroup": "Test2",
         "orientation": "v",
         "showlegend": true,
         "type": "histogram",
         "x": [
          72,
          63,
          74,
          80,
          86,
          74,
          79,
          74,
          78,
          80,
          71,
          78,
          72,
          74,
          79,
          80,
          75,
          74,
          85,
          88,
          74,
          77,
          85,
          76,
          74,
          69,
          73,
          71,
          74,
          72,
          78,
          77
         ],
         "xaxis": "x",
         "yaxis": "y"
        },
        {
         "alignmentgroup": "True",
         "bingroup": "x",
         "hovertemplate": "variable=Test3<br>value=%{x}<br>count=%{y}<extra></extra>",
         "legendgroup": "Test3",
         "marker": {
          "color": "#00cc96",
          "pattern": {
           "shape": ""
          }
         },
         "name": "Test3",
         "nbinsx": 32,
         "offsetgroup": "Test3",
         "orientation": "v",
         "showlegend": true,
         "type": "histogram",
         "x": [
          82,
          87,
          88,
          84,
          90,
          94,
          89,
          96,
          88,
          87,
          89,
          88,
          83,
          95,
          86,
          95,
          94,
          92,
          90,
          87,
          95,
          89,
          86,
          89,
          84,
          91,
          87,
          86,
          88,
          83,
          90,
          91
         ],
         "xaxis": "x",
         "yaxis": "y"
        }
       ],
       "layout": {
        "barmode": "relative",
        "legend": {
         "title": {
          "text": "variable"
         },
         "tracegroupgap": 0
        },
        "margin": {
         "t": 60
        },
        "template": {
         "data": {
          "bar": [
           {
            "error_x": {
             "color": "#2a3f5f"
            },
            "error_y": {
             "color": "#2a3f5f"
            },
            "marker": {
             "line": {
              "color": "#E5ECF6",
              "width": 0.5
             },
             "pattern": {
              "fillmode": "overlay",
              "size": 10,
              "solidity": 0.2
             }
            },
            "type": "bar"
           }
          ],
          "barpolar": [
           {
            "marker": {
             "line": {
              "color": "#E5ECF6",
              "width": 0.5
             },
             "pattern": {
              "fillmode": "overlay",
              "size": 10,
              "solidity": 0.2
             }
            },
            "type": "barpolar"
           }
          ],
          "carpet": [
           {
            "aaxis": {
             "endlinecolor": "#2a3f5f",
             "gridcolor": "white",
             "linecolor": "white",
             "minorgridcolor": "white",
             "startlinecolor": "#2a3f5f"
            },
            "baxis": {
             "endlinecolor": "#2a3f5f",
             "gridcolor": "white",
             "linecolor": "white",
             "minorgridcolor": "white",
             "startlinecolor": "#2a3f5f"
            },
            "type": "carpet"
           }
          ],
          "choropleth": [
           {
            "colorbar": {
             "outlinewidth": 0,
             "ticks": ""
            },
            "type": "choropleth"
           }
          ],
          "contour": [
           {
            "colorbar": {
             "outlinewidth": 0,
             "ticks": ""
            },
            "colorscale": [
             [
              0,
              "#0d0887"
             ],
             [
              0.1111111111111111,
              "#46039f"
             ],
             [
              0.2222222222222222,
              "#7201a8"
             ],
             [
              0.3333333333333333,
              "#9c179e"
             ],
             [
              0.4444444444444444,
              "#bd3786"
             ],
             [
              0.5555555555555556,
              "#d8576b"
             ],
             [
              0.6666666666666666,
              "#ed7953"
             ],
             [
              0.7777777777777778,
              "#fb9f3a"
             ],
             [
              0.8888888888888888,
              "#fdca26"
             ],
             [
              1,
              "#f0f921"
             ]
            ],
            "type": "contour"
           }
          ],
          "contourcarpet": [
           {
            "colorbar": {
             "outlinewidth": 0,
             "ticks": ""
            },
            "type": "contourcarpet"
           }
          ],
          "heatmap": [
           {
            "colorbar": {
             "outlinewidth": 0,
             "ticks": ""
            },
            "colorscale": [
             [
              0,
              "#0d0887"
             ],
             [
              0.1111111111111111,
              "#46039f"
             ],
             [
              0.2222222222222222,
              "#7201a8"
             ],
             [
              0.3333333333333333,
              "#9c179e"
             ],
             [
              0.4444444444444444,
              "#bd3786"
             ],
             [
              0.5555555555555556,
              "#d8576b"
             ],
             [
              0.6666666666666666,
              "#ed7953"
             ],
             [
              0.7777777777777778,
              "#fb9f3a"
             ],
             [
              0.8888888888888888,
              "#fdca26"
             ],
             [
              1,
              "#f0f921"
             ]
            ],
            "type": "heatmap"
           }
          ],
          "heatmapgl": [
           {
            "colorbar": {
             "outlinewidth": 0,
             "ticks": ""
            },
            "colorscale": [
             [
              0,
              "#0d0887"
             ],
             [
              0.1111111111111111,
              "#46039f"
             ],
             [
              0.2222222222222222,
              "#7201a8"
             ],
             [
              0.3333333333333333,
              "#9c179e"
             ],
             [
              0.4444444444444444,
              "#bd3786"
             ],
             [
              0.5555555555555556,
              "#d8576b"
             ],
             [
              0.6666666666666666,
              "#ed7953"
             ],
             [
              0.7777777777777778,
              "#fb9f3a"
             ],
             [
              0.8888888888888888,
              "#fdca26"
             ],
             [
              1,
              "#f0f921"
             ]
            ],
            "type": "heatmapgl"
           }
          ],
          "histogram": [
           {
            "marker": {
             "pattern": {
              "fillmode": "overlay",
              "size": 10,
              "solidity": 0.2
             }
            },
            "type": "histogram"
           }
          ],
          "histogram2d": [
           {
            "colorbar": {
             "outlinewidth": 0,
             "ticks": ""
            },
            "colorscale": [
             [
              0,
              "#0d0887"
             ],
             [
              0.1111111111111111,
              "#46039f"
             ],
             [
              0.2222222222222222,
              "#7201a8"
             ],
             [
              0.3333333333333333,
              "#9c179e"
             ],
             [
              0.4444444444444444,
              "#bd3786"
             ],
             [
              0.5555555555555556,
              "#d8576b"
             ],
             [
              0.6666666666666666,
              "#ed7953"
             ],
             [
              0.7777777777777778,
              "#fb9f3a"
             ],
             [
              0.8888888888888888,
              "#fdca26"
             ],
             [
              1,
              "#f0f921"
             ]
            ],
            "type": "histogram2d"
           }
          ],
          "histogram2dcontour": [
           {
            "colorbar": {
             "outlinewidth": 0,
             "ticks": ""
            },
            "colorscale": [
             [
              0,
              "#0d0887"
             ],
             [
              0.1111111111111111,
              "#46039f"
             ],
             [
              0.2222222222222222,
              "#7201a8"
             ],
             [
              0.3333333333333333,
              "#9c179e"
             ],
             [
              0.4444444444444444,
              "#bd3786"
             ],
             [
              0.5555555555555556,
              "#d8576b"
             ],
             [
              0.6666666666666666,
              "#ed7953"
             ],
             [
              0.7777777777777778,
              "#fb9f3a"
             ],
             [
              0.8888888888888888,
              "#fdca26"
             ],
             [
              1,
              "#f0f921"
             ]
            ],
            "type": "histogram2dcontour"
           }
          ],
          "mesh3d": [
           {
            "colorbar": {
             "outlinewidth": 0,
             "ticks": ""
            },
            "type": "mesh3d"
           }
          ],
          "parcoords": [
           {
            "line": {
             "colorbar": {
              "outlinewidth": 0,
              "ticks": ""
             }
            },
            "type": "parcoords"
           }
          ],
          "pie": [
           {
            "automargin": true,
            "type": "pie"
           }
          ],
          "scatter": [
           {
            "fillpattern": {
             "fillmode": "overlay",
             "size": 10,
             "solidity": 0.2
            },
            "type": "scatter"
           }
          ],
          "scatter3d": [
           {
            "line": {
             "colorbar": {
              "outlinewidth": 0,
              "ticks": ""
             }
            },
            "marker": {
             "colorbar": {
              "outlinewidth": 0,
              "ticks": ""
             }
            },
            "type": "scatter3d"
           }
          ],
          "scattercarpet": [
           {
            "marker": {
             "colorbar": {
              "outlinewidth": 0,
              "ticks": ""
             }
            },
            "type": "scattercarpet"
           }
          ],
          "scattergeo": [
           {
            "marker": {
             "colorbar": {
              "outlinewidth": 0,
              "ticks": ""
             }
            },
            "type": "scattergeo"
           }
          ],
          "scattergl": [
           {
            "marker": {
             "colorbar": {
              "outlinewidth": 0,
              "ticks": ""
             }
            },
            "type": "scattergl"
           }
          ],
          "scattermapbox": [
           {
            "marker": {
             "colorbar": {
              "outlinewidth": 0,
              "ticks": ""
             }
            },
            "type": "scattermapbox"
           }
          ],
          "scatterpolar": [
           {
            "marker": {
             "colorbar": {
              "outlinewidth": 0,
              "ticks": ""
             }
            },
            "type": "scatterpolar"
           }
          ],
          "scatterpolargl": [
           {
            "marker": {
             "colorbar": {
              "outlinewidth": 0,
              "ticks": ""
             }
            },
            "type": "scatterpolargl"
           }
          ],
          "scatterternary": [
           {
            "marker": {
             "colorbar": {
              "outlinewidth": 0,
              "ticks": ""
             }
            },
            "type": "scatterternary"
           }
          ],
          "surface": [
           {
            "colorbar": {
             "outlinewidth": 0,
             "ticks": ""
            },
            "colorscale": [
             [
              0,
              "#0d0887"
             ],
             [
              0.1111111111111111,
              "#46039f"
             ],
             [
              0.2222222222222222,
              "#7201a8"
             ],
             [
              0.3333333333333333,
              "#9c179e"
             ],
             [
              0.4444444444444444,
              "#bd3786"
             ],
             [
              0.5555555555555556,
              "#d8576b"
             ],
             [
              0.6666666666666666,
              "#ed7953"
             ],
             [
              0.7777777777777778,
              "#fb9f3a"
             ],
             [
              0.8888888888888888,
              "#fdca26"
             ],
             [
              1,
              "#f0f921"
             ]
            ],
            "type": "surface"
           }
          ],
          "table": [
           {
            "cells": {
             "fill": {
              "color": "#EBF0F8"
             },
             "line": {
              "color": "white"
             }
            },
            "header": {
             "fill": {
              "color": "#C8D4E3"
             },
             "line": {
              "color": "white"
             }
            },
            "type": "table"
           }
          ]
         },
         "layout": {
          "annotationdefaults": {
           "arrowcolor": "#2a3f5f",
           "arrowhead": 0,
           "arrowwidth": 1
          },
          "autotypenumbers": "strict",
          "coloraxis": {
           "colorbar": {
            "outlinewidth": 0,
            "ticks": ""
           }
          },
          "colorscale": {
           "diverging": [
            [
             0,
             "#8e0152"
            ],
            [
             0.1,
             "#c51b7d"
            ],
            [
             0.2,
             "#de77ae"
            ],
            [
             0.3,
             "#f1b6da"
            ],
            [
             0.4,
             "#fde0ef"
            ],
            [
             0.5,
             "#f7f7f7"
            ],
            [
             0.6,
             "#e6f5d0"
            ],
            [
             0.7,
             "#b8e186"
            ],
            [
             0.8,
             "#7fbc41"
            ],
            [
             0.9,
             "#4d9221"
            ],
            [
             1,
             "#276419"
            ]
           ],
           "sequential": [
            [
             0,
             "#0d0887"
            ],
            [
             0.1111111111111111,
             "#46039f"
            ],
            [
             0.2222222222222222,
             "#7201a8"
            ],
            [
             0.3333333333333333,
             "#9c179e"
            ],
            [
             0.4444444444444444,
             "#bd3786"
            ],
            [
             0.5555555555555556,
             "#d8576b"
            ],
            [
             0.6666666666666666,
             "#ed7953"
            ],
            [
             0.7777777777777778,
             "#fb9f3a"
            ],
            [
             0.8888888888888888,
             "#fdca26"
            ],
            [
             1,
             "#f0f921"
            ]
           ],
           "sequentialminus": [
            [
             0,
             "#0d0887"
            ],
            [
             0.1111111111111111,
             "#46039f"
            ],
            [
             0.2222222222222222,
             "#7201a8"
            ],
            [
             0.3333333333333333,
             "#9c179e"
            ],
            [
             0.4444444444444444,
             "#bd3786"
            ],
            [
             0.5555555555555556,
             "#d8576b"
            ],
            [
             0.6666666666666666,
             "#ed7953"
            ],
            [
             0.7777777777777778,
             "#fb9f3a"
            ],
            [
             0.8888888888888888,
             "#fdca26"
            ],
            [
             1,
             "#f0f921"
            ]
           ]
          },
          "colorway": [
           "#636efa",
           "#EF553B",
           "#00cc96",
           "#ab63fa",
           "#FFA15A",
           "#19d3f3",
           "#FF6692",
           "#B6E880",
           "#FF97FF",
           "#FECB52"
          ],
          "font": {
           "color": "#2a3f5f"
          },
          "geo": {
           "bgcolor": "white",
           "lakecolor": "white",
           "landcolor": "#E5ECF6",
           "showlakes": true,
           "showland": true,
           "subunitcolor": "white"
          },
          "hoverlabel": {
           "align": "left"
          },
          "hovermode": "closest",
          "mapbox": {
           "style": "light"
          },
          "paper_bgcolor": "white",
          "plot_bgcolor": "#E5ECF6",
          "polar": {
           "angularaxis": {
            "gridcolor": "white",
            "linecolor": "white",
            "ticks": ""
           },
           "bgcolor": "#E5ECF6",
           "radialaxis": {
            "gridcolor": "white",
            "linecolor": "white",
            "ticks": ""
           }
          },
          "scene": {
           "xaxis": {
            "backgroundcolor": "#E5ECF6",
            "gridcolor": "white",
            "gridwidth": 2,
            "linecolor": "white",
            "showbackground": true,
            "ticks": "",
            "zerolinecolor": "white"
           },
           "yaxis": {
            "backgroundcolor": "#E5ECF6",
            "gridcolor": "white",
            "gridwidth": 2,
            "linecolor": "white",
            "showbackground": true,
            "ticks": "",
            "zerolinecolor": "white"
           },
           "zaxis": {
            "backgroundcolor": "#E5ECF6",
            "gridcolor": "white",
            "gridwidth": 2,
            "linecolor": "white",
            "showbackground": true,
            "ticks": "",
            "zerolinecolor": "white"
           }
          },
          "shapedefaults": {
           "line": {
            "color": "#2a3f5f"
           }
          },
          "ternary": {
           "aaxis": {
            "gridcolor": "white",
            "linecolor": "white",
            "ticks": ""
           },
           "baxis": {
            "gridcolor": "white",
            "linecolor": "white",
            "ticks": ""
           },
           "bgcolor": "#E5ECF6",
           "caxis": {
            "gridcolor": "white",
            "linecolor": "white",
            "ticks": ""
           }
          },
          "title": {
           "x": 0.05
          },
          "xaxis": {
           "automargin": true,
           "gridcolor": "white",
           "linecolor": "white",
           "ticks": "",
           "title": {
            "standoff": 15
           },
           "zerolinecolor": "white",
           "zerolinewidth": 2
          },
          "yaxis": {
           "automargin": true,
           "gridcolor": "white",
           "linecolor": "white",
           "ticks": "",
           "title": {
            "standoff": 15
           },
           "zerolinecolor": "white",
           "zerolinewidth": 2
          }
         }
        },
        "title": {
         "text": "Distribution of Test Scores for Morning Session",
         "x": 0.5,
         "xanchor": "center",
         "yanchor": "top"
        },
        "xaxis": {
         "anchor": "y",
         "domain": [
          0,
          1
         ],
         "title": {
          "text": "Test Score"
         }
        },
        "yaxis": {
         "anchor": "x",
         "domain": [
          0,
          1
         ],
         "title": {
          "text": "Count"
         }
        }
       }
      },
      "text/html": [
       "<div>                            <div id=\"fcfeea3e-75bb-4a32-8a5a-a83a24224ff3\" class=\"plotly-graph-div\" style=\"height:525px; width:100%;\"></div>            <script type=\"text/javascript\">                require([\"plotly\"], function(Plotly) {                    window.PLOTLYENV=window.PLOTLYENV || {};                                    if (document.getElementById(\"fcfeea3e-75bb-4a32-8a5a-a83a24224ff3\")) {                    Plotly.newPlot(                        \"fcfeea3e-75bb-4a32-8a5a-a83a24224ff3\",                        [{\"alignmentgroup\":\"True\",\"bingroup\":\"x\",\"hovertemplate\":\"variable=Test1<br>value=%{x}<br>count=%{y}<extra></extra>\",\"legendgroup\":\"Test1\",\"marker\":{\"color\":\"#636efa\",\"pattern\":{\"shape\":\"\"}},\"name\":\"Test1\",\"nbinsx\":32,\"offsetgroup\":\"Test1\",\"orientation\":\"v\",\"showlegend\":true,\"x\":[92.0,80.0,76.0,82.0,98.0,78.0,78.0,86.0,72.0,70.0,87.0,89.0,89.0,91.0,87.0,83.0,76.0,81.0,85.0,72.0,72.0,82.0,83.0,86.0,81.0,77.0,82.0,90.0,76.0,92.0,80.0,90.0],\"xaxis\":\"x\",\"yaxis\":\"y\",\"type\":\"histogram\"},{\"alignmentgroup\":\"True\",\"bingroup\":\"x\",\"hovertemplate\":\"variable=Test2<br>value=%{x}<br>count=%{y}<extra></extra>\",\"legendgroup\":\"Test2\",\"marker\":{\"color\":\"#EF553B\",\"pattern\":{\"shape\":\"\"}},\"name\":\"Test2\",\"nbinsx\":32,\"offsetgroup\":\"Test2\",\"orientation\":\"v\",\"showlegend\":true,\"x\":[72.0,63.0,74.0,80.0,86.0,74.0,79.0,74.0,78.0,80.0,71.0,78.0,72.0,74.0,79.0,80.0,75.0,74.0,85.0,88.0,74.0,77.0,85.0,76.0,74.0,69.0,73.0,71.0,74.0,72.0,78.0,77.0],\"xaxis\":\"x\",\"yaxis\":\"y\",\"type\":\"histogram\"},{\"alignmentgroup\":\"True\",\"bingroup\":\"x\",\"hovertemplate\":\"variable=Test3<br>value=%{x}<br>count=%{y}<extra></extra>\",\"legendgroup\":\"Test3\",\"marker\":{\"color\":\"#00cc96\",\"pattern\":{\"shape\":\"\"}},\"name\":\"Test3\",\"nbinsx\":32,\"offsetgroup\":\"Test3\",\"orientation\":\"v\",\"showlegend\":true,\"x\":[82.0,87.0,88.0,84.0,90.0,94.0,89.0,96.0,88.0,87.0,89.0,88.0,83.0,95.0,86.0,95.0,94.0,92.0,90.0,87.0,95.0,89.0,86.0,89.0,84.0,91.0,87.0,86.0,88.0,83.0,90.0,91.0],\"xaxis\":\"x\",\"yaxis\":\"y\",\"type\":\"histogram\"}],                        {\"template\":{\"data\":{\"histogram2dcontour\":[{\"type\":\"histogram2dcontour\",\"colorbar\":{\"outlinewidth\":0,\"ticks\":\"\"},\"colorscale\":[[0.0,\"#0d0887\"],[0.1111111111111111,\"#46039f\"],[0.2222222222222222,\"#7201a8\"],[0.3333333333333333,\"#9c179e\"],[0.4444444444444444,\"#bd3786\"],[0.5555555555555556,\"#d8576b\"],[0.6666666666666666,\"#ed7953\"],[0.7777777777777778,\"#fb9f3a\"],[0.8888888888888888,\"#fdca26\"],[1.0,\"#f0f921\"]]}],\"choropleth\":[{\"type\":\"choropleth\",\"colorbar\":{\"outlinewidth\":0,\"ticks\":\"\"}}],\"histogram2d\":[{\"type\":\"histogram2d\",\"colorbar\":{\"outlinewidth\":0,\"ticks\":\"\"},\"colorscale\":[[0.0,\"#0d0887\"],[0.1111111111111111,\"#46039f\"],[0.2222222222222222,\"#7201a8\"],[0.3333333333333333,\"#9c179e\"],[0.4444444444444444,\"#bd3786\"],[0.5555555555555556,\"#d8576b\"],[0.6666666666666666,\"#ed7953\"],[0.7777777777777778,\"#fb9f3a\"],[0.8888888888888888,\"#fdca26\"],[1.0,\"#f0f921\"]]}],\"heatmap\":[{\"type\":\"heatmap\",\"colorbar\":{\"outlinewidth\":0,\"ticks\":\"\"},\"colorscale\":[[0.0,\"#0d0887\"],[0.1111111111111111,\"#46039f\"],[0.2222222222222222,\"#7201a8\"],[0.3333333333333333,\"#9c179e\"],[0.4444444444444444,\"#bd3786\"],[0.5555555555555556,\"#d8576b\"],[0.6666666666666666,\"#ed7953\"],[0.7777777777777778,\"#fb9f3a\"],[0.8888888888888888,\"#fdca26\"],[1.0,\"#f0f921\"]]}],\"heatmapgl\":[{\"type\":\"heatmapgl\",\"colorbar\":{\"outlinewidth\":0,\"ticks\":\"\"},\"colorscale\":[[0.0,\"#0d0887\"],[0.1111111111111111,\"#46039f\"],[0.2222222222222222,\"#7201a8\"],[0.3333333333333333,\"#9c179e\"],[0.4444444444444444,\"#bd3786\"],[0.5555555555555556,\"#d8576b\"],[0.6666666666666666,\"#ed7953\"],[0.7777777777777778,\"#fb9f3a\"],[0.8888888888888888,\"#fdca26\"],[1.0,\"#f0f921\"]]}],\"contourcarpet\":[{\"type\":\"contourcarpet\",\"colorbar\":{\"outlinewidth\":0,\"ticks\":\"\"}}],\"contour\":[{\"type\":\"contour\",\"colorbar\":{\"outlinewidth\":0,\"ticks\":\"\"},\"colorscale\":[[0.0,\"#0d0887\"],[0.1111111111111111,\"#46039f\"],[0.2222222222222222,\"#7201a8\"],[0.3333333333333333,\"#9c179e\"],[0.4444444444444444,\"#bd3786\"],[0.5555555555555556,\"#d8576b\"],[0.6666666666666666,\"#ed7953\"],[0.7777777777777778,\"#fb9f3a\"],[0.8888888888888888,\"#fdca26\"],[1.0,\"#f0f921\"]]}],\"surface\":[{\"type\":\"surface\",\"colorbar\":{\"outlinewidth\":0,\"ticks\":\"\"},\"colorscale\":[[0.0,\"#0d0887\"],[0.1111111111111111,\"#46039f\"],[0.2222222222222222,\"#7201a8\"],[0.3333333333333333,\"#9c179e\"],[0.4444444444444444,\"#bd3786\"],[0.5555555555555556,\"#d8576b\"],[0.6666666666666666,\"#ed7953\"],[0.7777777777777778,\"#fb9f3a\"],[0.8888888888888888,\"#fdca26\"],[1.0,\"#f0f921\"]]}],\"mesh3d\":[{\"type\":\"mesh3d\",\"colorbar\":{\"outlinewidth\":0,\"ticks\":\"\"}}],\"scatter\":[{\"fillpattern\":{\"fillmode\":\"overlay\",\"size\":10,\"solidity\":0.2},\"type\":\"scatter\"}],\"parcoords\":[{\"type\":\"parcoords\",\"line\":{\"colorbar\":{\"outlinewidth\":0,\"ticks\":\"\"}}}],\"scatterpolargl\":[{\"type\":\"scatterpolargl\",\"marker\":{\"colorbar\":{\"outlinewidth\":0,\"ticks\":\"\"}}}],\"bar\":[{\"error_x\":{\"color\":\"#2a3f5f\"},\"error_y\":{\"color\":\"#2a3f5f\"},\"marker\":{\"line\":{\"color\":\"#E5ECF6\",\"width\":0.5},\"pattern\":{\"fillmode\":\"overlay\",\"size\":10,\"solidity\":0.2}},\"type\":\"bar\"}],\"scattergeo\":[{\"type\":\"scattergeo\",\"marker\":{\"colorbar\":{\"outlinewidth\":0,\"ticks\":\"\"}}}],\"scatterpolar\":[{\"type\":\"scatterpolar\",\"marker\":{\"colorbar\":{\"outlinewidth\":0,\"ticks\":\"\"}}}],\"histogram\":[{\"marker\":{\"pattern\":{\"fillmode\":\"overlay\",\"size\":10,\"solidity\":0.2}},\"type\":\"histogram\"}],\"scattergl\":[{\"type\":\"scattergl\",\"marker\":{\"colorbar\":{\"outlinewidth\":0,\"ticks\":\"\"}}}],\"scatter3d\":[{\"type\":\"scatter3d\",\"line\":{\"colorbar\":{\"outlinewidth\":0,\"ticks\":\"\"}},\"marker\":{\"colorbar\":{\"outlinewidth\":0,\"ticks\":\"\"}}}],\"scattermapbox\":[{\"type\":\"scattermapbox\",\"marker\":{\"colorbar\":{\"outlinewidth\":0,\"ticks\":\"\"}}}],\"scatterternary\":[{\"type\":\"scatterternary\",\"marker\":{\"colorbar\":{\"outlinewidth\":0,\"ticks\":\"\"}}}],\"scattercarpet\":[{\"type\":\"scattercarpet\",\"marker\":{\"colorbar\":{\"outlinewidth\":0,\"ticks\":\"\"}}}],\"carpet\":[{\"aaxis\":{\"endlinecolor\":\"#2a3f5f\",\"gridcolor\":\"white\",\"linecolor\":\"white\",\"minorgridcolor\":\"white\",\"startlinecolor\":\"#2a3f5f\"},\"baxis\":{\"endlinecolor\":\"#2a3f5f\",\"gridcolor\":\"white\",\"linecolor\":\"white\",\"minorgridcolor\":\"white\",\"startlinecolor\":\"#2a3f5f\"},\"type\":\"carpet\"}],\"table\":[{\"cells\":{\"fill\":{\"color\":\"#EBF0F8\"},\"line\":{\"color\":\"white\"}},\"header\":{\"fill\":{\"color\":\"#C8D4E3\"},\"line\":{\"color\":\"white\"}},\"type\":\"table\"}],\"barpolar\":[{\"marker\":{\"line\":{\"color\":\"#E5ECF6\",\"width\":0.5},\"pattern\":{\"fillmode\":\"overlay\",\"size\":10,\"solidity\":0.2}},\"type\":\"barpolar\"}],\"pie\":[{\"automargin\":true,\"type\":\"pie\"}]},\"layout\":{\"autotypenumbers\":\"strict\",\"colorway\":[\"#636efa\",\"#EF553B\",\"#00cc96\",\"#ab63fa\",\"#FFA15A\",\"#19d3f3\",\"#FF6692\",\"#B6E880\",\"#FF97FF\",\"#FECB52\"],\"font\":{\"color\":\"#2a3f5f\"},\"hovermode\":\"closest\",\"hoverlabel\":{\"align\":\"left\"},\"paper_bgcolor\":\"white\",\"plot_bgcolor\":\"#E5ECF6\",\"polar\":{\"bgcolor\":\"#E5ECF6\",\"angularaxis\":{\"gridcolor\":\"white\",\"linecolor\":\"white\",\"ticks\":\"\"},\"radialaxis\":{\"gridcolor\":\"white\",\"linecolor\":\"white\",\"ticks\":\"\"}},\"ternary\":{\"bgcolor\":\"#E5ECF6\",\"aaxis\":{\"gridcolor\":\"white\",\"linecolor\":\"white\",\"ticks\":\"\"},\"baxis\":{\"gridcolor\":\"white\",\"linecolor\":\"white\",\"ticks\":\"\"},\"caxis\":{\"gridcolor\":\"white\",\"linecolor\":\"white\",\"ticks\":\"\"}},\"coloraxis\":{\"colorbar\":{\"outlinewidth\":0,\"ticks\":\"\"}},\"colorscale\":{\"sequential\":[[0.0,\"#0d0887\"],[0.1111111111111111,\"#46039f\"],[0.2222222222222222,\"#7201a8\"],[0.3333333333333333,\"#9c179e\"],[0.4444444444444444,\"#bd3786\"],[0.5555555555555556,\"#d8576b\"],[0.6666666666666666,\"#ed7953\"],[0.7777777777777778,\"#fb9f3a\"],[0.8888888888888888,\"#fdca26\"],[1.0,\"#f0f921\"]],\"sequentialminus\":[[0.0,\"#0d0887\"],[0.1111111111111111,\"#46039f\"],[0.2222222222222222,\"#7201a8\"],[0.3333333333333333,\"#9c179e\"],[0.4444444444444444,\"#bd3786\"],[0.5555555555555556,\"#d8576b\"],[0.6666666666666666,\"#ed7953\"],[0.7777777777777778,\"#fb9f3a\"],[0.8888888888888888,\"#fdca26\"],[1.0,\"#f0f921\"]],\"diverging\":[[0,\"#8e0152\"],[0.1,\"#c51b7d\"],[0.2,\"#de77ae\"],[0.3,\"#f1b6da\"],[0.4,\"#fde0ef\"],[0.5,\"#f7f7f7\"],[0.6,\"#e6f5d0\"],[0.7,\"#b8e186\"],[0.8,\"#7fbc41\"],[0.9,\"#4d9221\"],[1,\"#276419\"]]},\"xaxis\":{\"gridcolor\":\"white\",\"linecolor\":\"white\",\"ticks\":\"\",\"title\":{\"standoff\":15},\"zerolinecolor\":\"white\",\"automargin\":true,\"zerolinewidth\":2},\"yaxis\":{\"gridcolor\":\"white\",\"linecolor\":\"white\",\"ticks\":\"\",\"title\":{\"standoff\":15},\"zerolinecolor\":\"white\",\"automargin\":true,\"zerolinewidth\":2},\"scene\":{\"xaxis\":{\"backgroundcolor\":\"#E5ECF6\",\"gridcolor\":\"white\",\"linecolor\":\"white\",\"showbackground\":true,\"ticks\":\"\",\"zerolinecolor\":\"white\",\"gridwidth\":2},\"yaxis\":{\"backgroundcolor\":\"#E5ECF6\",\"gridcolor\":\"white\",\"linecolor\":\"white\",\"showbackground\":true,\"ticks\":\"\",\"zerolinecolor\":\"white\",\"gridwidth\":2},\"zaxis\":{\"backgroundcolor\":\"#E5ECF6\",\"gridcolor\":\"white\",\"linecolor\":\"white\",\"showbackground\":true,\"ticks\":\"\",\"zerolinecolor\":\"white\",\"gridwidth\":2}},\"shapedefaults\":{\"line\":{\"color\":\"#2a3f5f\"}},\"annotationdefaults\":{\"arrowcolor\":\"#2a3f5f\",\"arrowhead\":0,\"arrowwidth\":1},\"geo\":{\"bgcolor\":\"white\",\"landcolor\":\"#E5ECF6\",\"subunitcolor\":\"white\",\"showland\":true,\"showlakes\":true,\"lakecolor\":\"white\"},\"title\":{\"x\":0.05},\"mapbox\":{\"style\":\"light\"}}},\"xaxis\":{\"anchor\":\"y\",\"domain\":[0.0,1.0],\"title\":{\"text\":\"Test Score\"}},\"yaxis\":{\"anchor\":\"x\",\"domain\":[0.0,1.0],\"title\":{\"text\":\"Count\"}},\"legend\":{\"title\":{\"text\":\"variable\"},\"tracegroupgap\":0},\"margin\":{\"t\":60},\"barmode\":\"relative\",\"title\":{\"text\":\"Distribution of Test Scores for Morning Session\",\"xanchor\":\"center\",\"yanchor\":\"top\",\"x\":0.5}},                        {\"responsive\": true}                    ).then(function(){\n",
       "                            \n",
       "var gd = document.getElementById('fcfeea3e-75bb-4a32-8a5a-a83a24224ff3');\n",
       "var x = new MutationObserver(function (mutations, observer) {{\n",
       "        var display = window.getComputedStyle(gd).display;\n",
       "        if (!display || display === 'none') {{\n",
       "            console.log([gd, 'removed!']);\n",
       "            Plotly.purge(gd);\n",
       "            observer.disconnect();\n",
       "        }}\n",
       "}});\n",
       "\n",
       "// Listen for the removal of the full notebook cells\n",
       "var notebookContainer = gd.closest('#notebook-container');\n",
       "if (notebookContainer) {{\n",
       "    x.observe(notebookContainer, {childList: true});\n",
       "}}\n",
       "\n",
       "// Listen for the clearing of the current output cell\n",
       "var outputEl = gd.closest('.output');\n",
       "if (outputEl) {{\n",
       "    x.observe(outputEl, {childList: true});\n",
       "}}\n",
       "\n",
       "                        })                };                });            </script>        </div>"
      ]
     },
     "metadata": {},
     "output_type": "display_data"
    }
   ],
   "source": [
    "# Show example of Morning Session test score distribution (Plotly): \n",
    "\n",
    "plot = px.histogram(morningScores, \n",
    "             x=['Test1', 'Test2', 'Test3'], \n",
    "             nbins=len(morningScores))\n",
    "plot.update_layout(\n",
    "    title={'text': \"Distribution of Test Scores for Morning Session\",\n",
    "           'xanchor': 'center',\n",
    "           'yanchor': 'top',\n",
    "           'x': 0.5},\n",
    "    xaxis_title='Test Score',\n",
    "    yaxis_title='Count')\n",
    "plot.show()"
   ]
  },
  {
   "cell_type": "code",
   "execution_count": 58,
   "id": "62af670b",
   "metadata": {},
   "outputs": [],
   "source": [
    "# Afternoon Score Test 1:\n",
    "\n",
    "low = 0\n",
    "high = 100\n",
    "\n",
    "mean = 78\n",
    "scale = 5\n",
    "size = len(df[df['ClassSession'] == 'Afternoon'])\n",
    "\n",
    "values = np.random.normal(mean, scale, size)\n",
    "df.loc[df['ClassSession'] == 'Afternoon', 'Test1'] = np.clip(values, low, high).astype(int)\n",
    "\n",
    "# Afternoon Score Test 2:\n",
    "\n",
    "mean = 71\n",
    "scale = 9\n",
    "size = len(df[df['ClassSession'] == 'Afternoon'])\n",
    "\n",
    "values = np.random.normal(mean, scale, size)\n",
    "df.loc[df['ClassSession'] == 'Afternoon', 'Test2'] = np.clip(values, low, high).astype(int)\n",
    "\n",
    "# Afternoon Score Test 3:\n",
    "\n",
    "mean = 85\n",
    "scale = 8\n",
    "size = len(df[df['ClassSession'] == 'Afternoon'])\n",
    "\n",
    "values = np.random.normal(mean, scale, size)\n",
    "df.loc[df['ClassSession'] == 'Afternoon', 'Test3'] = np.clip(values, low, high).astype(int)"
   ]
  },
  {
   "cell_type": "code",
   "execution_count": 59,
   "id": "1a822086",
   "metadata": {},
   "outputs": [],
   "source": [
    "# Evening Score Test 1:\n",
    "\n",
    "low = 0\n",
    "high = 100\n",
    "\n",
    "mean = 74\n",
    "scale = 7\n",
    "size = len(df[df['ClassSession'] == 'Evening'])\n",
    "\n",
    "values = np.random.normal(mean, scale, size)\n",
    "df.loc[df['ClassSession'] == 'Evening', 'Test1'] = np.clip(values, low, high).astype(int)\n",
    "\n",
    "# Evening Score Test 2:\n",
    "\n",
    "mean = 70\n",
    "scale = 6\n",
    "size = len(df[df['ClassSession'] == 'Evening'])\n",
    "\n",
    "values = np.random.normal(mean, scale, size)\n",
    "df.loc[df['ClassSession'] == 'Evening', 'Test2'] = np.clip(values, low, high).astype(int)\n",
    "\n",
    "# Evening Score Test 3:\n",
    "\n",
    "mean = 81\n",
    "scale = 9\n",
    "size = len(df[df['ClassSession'] == 'Evening'])\n",
    "\n",
    "values = np.random.normal(mean, scale, size)\n",
    "df.loc[df['ClassSession'] == 'Evening', 'Test3'] = np.clip(values, low, high).astype(int)"
   ]
  },
  {
   "cell_type": "code",
   "execution_count": 60,
   "id": "a279d044",
   "metadata": {},
   "outputs": [
    {
     "data": {
      "text/html": [
       "<div>\n",
       "<style scoped>\n",
       "    .dataframe tbody tr th:only-of-type {\n",
       "        vertical-align: middle;\n",
       "    }\n",
       "\n",
       "    .dataframe tbody tr th {\n",
       "        vertical-align: top;\n",
       "    }\n",
       "\n",
       "    .dataframe thead th {\n",
       "        text-align: right;\n",
       "    }\n",
       "</style>\n",
       "<table border=\"1\" class=\"dataframe\">\n",
       "  <thead>\n",
       "    <tr style=\"text-align: right;\">\n",
       "      <th></th>\n",
       "      <th>Student</th>\n",
       "      <th>Age</th>\n",
       "      <th>ClassSession</th>\n",
       "      <th>Test1</th>\n",
       "      <th>Test2</th>\n",
       "      <th>Test3</th>\n",
       "    </tr>\n",
       "  </thead>\n",
       "  <tbody>\n",
       "    <tr>\n",
       "      <th>0</th>\n",
       "      <td>Daisy Payne</td>\n",
       "      <td>23</td>\n",
       "      <td>Evening</td>\n",
       "      <td>65.0</td>\n",
       "      <td>72.0</td>\n",
       "      <td>82.0</td>\n",
       "    </tr>\n",
       "    <tr>\n",
       "      <th>1</th>\n",
       "      <td>Emily Lopez</td>\n",
       "      <td>24</td>\n",
       "      <td>Morning</td>\n",
       "      <td>92.0</td>\n",
       "      <td>72.0</td>\n",
       "      <td>82.0</td>\n",
       "    </tr>\n",
       "    <tr>\n",
       "      <th>2</th>\n",
       "      <td>Brittany Shaw</td>\n",
       "      <td>23</td>\n",
       "      <td>Evening</td>\n",
       "      <td>73.0</td>\n",
       "      <td>70.0</td>\n",
       "      <td>100.0</td>\n",
       "    </tr>\n",
       "    <tr>\n",
       "      <th>3</th>\n",
       "      <td>Benjamin Bell</td>\n",
       "      <td>21</td>\n",
       "      <td>Evening</td>\n",
       "      <td>84.0</td>\n",
       "      <td>77.0</td>\n",
       "      <td>79.0</td>\n",
       "    </tr>\n",
       "    <tr>\n",
       "      <th>4</th>\n",
       "      <td>Blake Browning</td>\n",
       "      <td>23</td>\n",
       "      <td>Evening</td>\n",
       "      <td>71.0</td>\n",
       "      <td>68.0</td>\n",
       "      <td>72.0</td>\n",
       "    </tr>\n",
       "    <tr>\n",
       "      <th>5</th>\n",
       "      <td>Amber Simon</td>\n",
       "      <td>22</td>\n",
       "      <td>Evening</td>\n",
       "      <td>84.0</td>\n",
       "      <td>70.0</td>\n",
       "      <td>82.0</td>\n",
       "    </tr>\n",
       "    <tr>\n",
       "      <th>6</th>\n",
       "      <td>Jennifer Townsend</td>\n",
       "      <td>22</td>\n",
       "      <td>Afternoon</td>\n",
       "      <td>86.0</td>\n",
       "      <td>80.0</td>\n",
       "      <td>81.0</td>\n",
       "    </tr>\n",
       "    <tr>\n",
       "      <th>7</th>\n",
       "      <td>Justin Walker</td>\n",
       "      <td>20</td>\n",
       "      <td>Morning</td>\n",
       "      <td>80.0</td>\n",
       "      <td>63.0</td>\n",
       "      <td>87.0</td>\n",
       "    </tr>\n",
       "    <tr>\n",
       "      <th>8</th>\n",
       "      <td>Heather Johnson</td>\n",
       "      <td>24</td>\n",
       "      <td>Afternoon</td>\n",
       "      <td>77.0</td>\n",
       "      <td>62.0</td>\n",
       "      <td>84.0</td>\n",
       "    </tr>\n",
       "    <tr>\n",
       "      <th>9</th>\n",
       "      <td>Chad Higgins</td>\n",
       "      <td>23</td>\n",
       "      <td>Afternoon</td>\n",
       "      <td>80.0</td>\n",
       "      <td>68.0</td>\n",
       "      <td>87.0</td>\n",
       "    </tr>\n",
       "  </tbody>\n",
       "</table>\n",
       "</div>"
      ],
      "text/plain": [
       "             Student  Age ClassSession  Test1  Test2  Test3\n",
       "0        Daisy Payne   23      Evening   65.0   72.0   82.0\n",
       "1        Emily Lopez   24      Morning   92.0   72.0   82.0\n",
       "2      Brittany Shaw   23      Evening   73.0   70.0  100.0\n",
       "3      Benjamin Bell   21      Evening   84.0   77.0   79.0\n",
       "4     Blake Browning   23      Evening   71.0   68.0   72.0\n",
       "5        Amber Simon   22      Evening   84.0   70.0   82.0\n",
       "6  Jennifer Townsend   22    Afternoon   86.0   80.0   81.0\n",
       "7      Justin Walker   20      Morning   80.0   63.0   87.0\n",
       "8    Heather Johnson   24    Afternoon   77.0   62.0   84.0\n",
       "9       Chad Higgins   23    Afternoon   80.0   68.0   87.0"
      ]
     },
     "execution_count": 60,
     "metadata": {},
     "output_type": "execute_result"
    }
   ],
   "source": [
    "# Review the dataframe:\n",
    "\n",
    "df.head(10)"
   ]
  },
  {
   "cell_type": "code",
   "execution_count": 61,
   "id": "40fb3c75",
   "metadata": {},
   "outputs": [],
   "source": [
    "# Add a top performer to the Evening Class:\n",
    "df.iloc[df.index[df['ClassSession'] == 'Evening'][0], 3] = 88\n",
    "df.iloc[df.index[df['ClassSession'] == 'Evening'][0], 4] = 90\n",
    "df.iloc[df.index[df['ClassSession'] == 'Evening'][0], 5] = 95\n",
    "\n",
    "# Add a poor performer to the Morning Class:\n",
    "df.iloc[df.index[df['ClassSession'] == 'Morning'][0], 3] = 61\n",
    "df.iloc[df.index[df['ClassSession'] == 'Morning'][0], 4] = 55\n",
    "df.iloc[df.index[df['ClassSession'] == 'Morning'][0], 5] = 57\n",
    "\n",
    "# Add a poor performer to the Afternoon Class:\n",
    "df.iloc[df.index[df['ClassSession'] == 'Afternoon'][0], 3] = 50\n",
    "df.iloc[df.index[df['ClassSession'] == 'Afternoon'][0], 4] = 61\n",
    "df.iloc[df.index[df['ClassSession'] == 'Afternoon'][0], 5] = 75"
   ]
  },
  {
   "cell_type": "code",
   "execution_count": 62,
   "id": "a39d7fe8",
   "metadata": {},
   "outputs": [],
   "source": [
    "# Determine Course Grade:\n",
    "df['Grade'] = df[['Test1', 'Test2', 'Test3']].mean(axis = 1).round(1)"
   ]
  },
  {
   "cell_type": "code",
   "execution_count": 63,
   "id": "f23de581",
   "metadata": {},
   "outputs": [
    {
     "data": {
      "text/html": [
       "<div>\n",
       "<style scoped>\n",
       "    .dataframe tbody tr th:only-of-type {\n",
       "        vertical-align: middle;\n",
       "    }\n",
       "\n",
       "    .dataframe tbody tr th {\n",
       "        vertical-align: top;\n",
       "    }\n",
       "\n",
       "    .dataframe thead th {\n",
       "        text-align: right;\n",
       "    }\n",
       "</style>\n",
       "<table border=\"1\" class=\"dataframe\">\n",
       "  <thead>\n",
       "    <tr style=\"text-align: right;\">\n",
       "      <th></th>\n",
       "      <th>Student</th>\n",
       "      <th>Age</th>\n",
       "      <th>ClassSession</th>\n",
       "      <th>Test1</th>\n",
       "      <th>Test2</th>\n",
       "      <th>Test3</th>\n",
       "      <th>Grade</th>\n",
       "      <th>LetterGrade</th>\n",
       "    </tr>\n",
       "  </thead>\n",
       "  <tbody>\n",
       "    <tr>\n",
       "      <th>0</th>\n",
       "      <td>Daisy Payne</td>\n",
       "      <td>23</td>\n",
       "      <td>Evening</td>\n",
       "      <td>88.0</td>\n",
       "      <td>90.0</td>\n",
       "      <td>95.0</td>\n",
       "      <td>91.0</td>\n",
       "      <td>A</td>\n",
       "    </tr>\n",
       "    <tr>\n",
       "      <th>1</th>\n",
       "      <td>Emily Lopez</td>\n",
       "      <td>24</td>\n",
       "      <td>Morning</td>\n",
       "      <td>61.0</td>\n",
       "      <td>55.0</td>\n",
       "      <td>57.0</td>\n",
       "      <td>57.7</td>\n",
       "      <td>F</td>\n",
       "    </tr>\n",
       "    <tr>\n",
       "      <th>2</th>\n",
       "      <td>Brittany Shaw</td>\n",
       "      <td>23</td>\n",
       "      <td>Evening</td>\n",
       "      <td>73.0</td>\n",
       "      <td>70.0</td>\n",
       "      <td>100.0</td>\n",
       "      <td>81.0</td>\n",
       "      <td>B</td>\n",
       "    </tr>\n",
       "    <tr>\n",
       "      <th>3</th>\n",
       "      <td>Benjamin Bell</td>\n",
       "      <td>21</td>\n",
       "      <td>Evening</td>\n",
       "      <td>84.0</td>\n",
       "      <td>77.0</td>\n",
       "      <td>79.0</td>\n",
       "      <td>80.0</td>\n",
       "      <td>B</td>\n",
       "    </tr>\n",
       "    <tr>\n",
       "      <th>4</th>\n",
       "      <td>Blake Browning</td>\n",
       "      <td>23</td>\n",
       "      <td>Evening</td>\n",
       "      <td>71.0</td>\n",
       "      <td>68.0</td>\n",
       "      <td>72.0</td>\n",
       "      <td>70.3</td>\n",
       "      <td>C</td>\n",
       "    </tr>\n",
       "  </tbody>\n",
       "</table>\n",
       "</div>"
      ],
      "text/plain": [
       "          Student  Age ClassSession  Test1  Test2  Test3  Grade LetterGrade\n",
       "0     Daisy Payne   23      Evening   88.0   90.0   95.0   91.0           A\n",
       "1     Emily Lopez   24      Morning   61.0   55.0   57.0   57.7           F\n",
       "2   Brittany Shaw   23      Evening   73.0   70.0  100.0   81.0           B\n",
       "3   Benjamin Bell   21      Evening   84.0   77.0   79.0   80.0           B\n",
       "4  Blake Browning   23      Evening   71.0   68.0   72.0   70.3           C"
      ]
     },
     "execution_count": 63,
     "metadata": {},
     "output_type": "execute_result"
    }
   ],
   "source": [
    "# Define Letter Grade:\n",
    "df['LetterGrade'] = ['A' if x >= 90 else\n",
    "                     'B' if x >= 80 else\n",
    "                     'C' if x >= 70 else\n",
    "                     'D' if x >= 60 else\n",
    "                     'F' for x in df['Grade']]\n",
    "\n",
    "df.head()"
   ]
  },
  {
   "cell_type": "code",
   "execution_count": 64,
   "id": "db6c2528",
   "metadata": {},
   "outputs": [
    {
     "data": {
      "text/html": [
       "<div>\n",
       "<style scoped>\n",
       "    .dataframe tbody tr th:only-of-type {\n",
       "        vertical-align: middle;\n",
       "    }\n",
       "\n",
       "    .dataframe tbody tr th {\n",
       "        vertical-align: top;\n",
       "    }\n",
       "\n",
       "    .dataframe thead th {\n",
       "        text-align: right;\n",
       "    }\n",
       "</style>\n",
       "<table border=\"1\" class=\"dataframe\">\n",
       "  <thead>\n",
       "    <tr style=\"text-align: right;\">\n",
       "      <th></th>\n",
       "      <th>Student</th>\n",
       "      <th>Age</th>\n",
       "      <th>ClassSession</th>\n",
       "      <th>Test1</th>\n",
       "      <th>Test2</th>\n",
       "      <th>Test3</th>\n",
       "      <th>Grade</th>\n",
       "      <th>LetterGrade</th>\n",
       "      <th>CoursePass</th>\n",
       "    </tr>\n",
       "  </thead>\n",
       "  <tbody>\n",
       "    <tr>\n",
       "      <th>0</th>\n",
       "      <td>Daisy Payne</td>\n",
       "      <td>23</td>\n",
       "      <td>Evening</td>\n",
       "      <td>88.0</td>\n",
       "      <td>90.0</td>\n",
       "      <td>95.0</td>\n",
       "      <td>91.0</td>\n",
       "      <td>A</td>\n",
       "      <td>Yes</td>\n",
       "    </tr>\n",
       "    <tr>\n",
       "      <th>1</th>\n",
       "      <td>Emily Lopez</td>\n",
       "      <td>24</td>\n",
       "      <td>Morning</td>\n",
       "      <td>61.0</td>\n",
       "      <td>55.0</td>\n",
       "      <td>57.0</td>\n",
       "      <td>57.7</td>\n",
       "      <td>F</td>\n",
       "      <td>No</td>\n",
       "    </tr>\n",
       "    <tr>\n",
       "      <th>2</th>\n",
       "      <td>Brittany Shaw</td>\n",
       "      <td>23</td>\n",
       "      <td>Evening</td>\n",
       "      <td>73.0</td>\n",
       "      <td>70.0</td>\n",
       "      <td>100.0</td>\n",
       "      <td>81.0</td>\n",
       "      <td>B</td>\n",
       "      <td>Yes</td>\n",
       "    </tr>\n",
       "    <tr>\n",
       "      <th>3</th>\n",
       "      <td>Benjamin Bell</td>\n",
       "      <td>21</td>\n",
       "      <td>Evening</td>\n",
       "      <td>84.0</td>\n",
       "      <td>77.0</td>\n",
       "      <td>79.0</td>\n",
       "      <td>80.0</td>\n",
       "      <td>B</td>\n",
       "      <td>Yes</td>\n",
       "    </tr>\n",
       "    <tr>\n",
       "      <th>4</th>\n",
       "      <td>Blake Browning</td>\n",
       "      <td>23</td>\n",
       "      <td>Evening</td>\n",
       "      <td>71.0</td>\n",
       "      <td>68.0</td>\n",
       "      <td>72.0</td>\n",
       "      <td>70.3</td>\n",
       "      <td>C</td>\n",
       "      <td>Yes</td>\n",
       "    </tr>\n",
       "    <tr>\n",
       "      <th>5</th>\n",
       "      <td>Amber Simon</td>\n",
       "      <td>22</td>\n",
       "      <td>Evening</td>\n",
       "      <td>84.0</td>\n",
       "      <td>70.0</td>\n",
       "      <td>82.0</td>\n",
       "      <td>78.7</td>\n",
       "      <td>C</td>\n",
       "      <td>Yes</td>\n",
       "    </tr>\n",
       "    <tr>\n",
       "      <th>6</th>\n",
       "      <td>Jennifer Townsend</td>\n",
       "      <td>22</td>\n",
       "      <td>Afternoon</td>\n",
       "      <td>50.0</td>\n",
       "      <td>61.0</td>\n",
       "      <td>75.0</td>\n",
       "      <td>62.0</td>\n",
       "      <td>D</td>\n",
       "      <td>No</td>\n",
       "    </tr>\n",
       "    <tr>\n",
       "      <th>7</th>\n",
       "      <td>Justin Walker</td>\n",
       "      <td>20</td>\n",
       "      <td>Morning</td>\n",
       "      <td>80.0</td>\n",
       "      <td>63.0</td>\n",
       "      <td>87.0</td>\n",
       "      <td>76.7</td>\n",
       "      <td>C</td>\n",
       "      <td>Yes</td>\n",
       "    </tr>\n",
       "    <tr>\n",
       "      <th>8</th>\n",
       "      <td>Heather Johnson</td>\n",
       "      <td>24</td>\n",
       "      <td>Afternoon</td>\n",
       "      <td>77.0</td>\n",
       "      <td>62.0</td>\n",
       "      <td>84.0</td>\n",
       "      <td>74.3</td>\n",
       "      <td>C</td>\n",
       "      <td>Yes</td>\n",
       "    </tr>\n",
       "    <tr>\n",
       "      <th>9</th>\n",
       "      <td>Chad Higgins</td>\n",
       "      <td>23</td>\n",
       "      <td>Afternoon</td>\n",
       "      <td>80.0</td>\n",
       "      <td>68.0</td>\n",
       "      <td>87.0</td>\n",
       "      <td>78.3</td>\n",
       "      <td>C</td>\n",
       "      <td>Yes</td>\n",
       "    </tr>\n",
       "  </tbody>\n",
       "</table>\n",
       "</div>"
      ],
      "text/plain": [
       "             Student  Age ClassSession  Test1  Test2  Test3  Grade  \\\n",
       "0        Daisy Payne   23      Evening   88.0   90.0   95.0   91.0   \n",
       "1        Emily Lopez   24      Morning   61.0   55.0   57.0   57.7   \n",
       "2      Brittany Shaw   23      Evening   73.0   70.0  100.0   81.0   \n",
       "3      Benjamin Bell   21      Evening   84.0   77.0   79.0   80.0   \n",
       "4     Blake Browning   23      Evening   71.0   68.0   72.0   70.3   \n",
       "5        Amber Simon   22      Evening   84.0   70.0   82.0   78.7   \n",
       "6  Jennifer Townsend   22    Afternoon   50.0   61.0   75.0   62.0   \n",
       "7      Justin Walker   20      Morning   80.0   63.0   87.0   76.7   \n",
       "8    Heather Johnson   24    Afternoon   77.0   62.0   84.0   74.3   \n",
       "9       Chad Higgins   23    Afternoon   80.0   68.0   87.0   78.3   \n",
       "\n",
       "  LetterGrade CoursePass  \n",
       "0           A        Yes  \n",
       "1           F         No  \n",
       "2           B        Yes  \n",
       "3           B        Yes  \n",
       "4           C        Yes  \n",
       "5           C        Yes  \n",
       "6           D         No  \n",
       "7           C        Yes  \n",
       "8           C        Yes  \n",
       "9           C        Yes  "
      ]
     },
     "execution_count": 64,
     "metadata": {},
     "output_type": "execute_result"
    }
   ],
   "source": [
    "# Pass or Fail:\n",
    "df['CoursePass'] = ['Yes' if x >= 70 else\n",
    "                    'No' for x in df['Grade']]\n",
    "\n",
    "df.head(10)"
   ]
  },
  {
   "cell_type": "code",
   "execution_count": 65,
   "id": "643030c3",
   "metadata": {},
   "outputs": [],
   "source": [
    "# Export to CSV:\n",
    "df.to_csv('StudentData.csv', index = False)"
   ]
  },
  {
   "cell_type": "markdown",
   "id": "045b8017",
   "metadata": {},
   "source": [
    "# Visualizations"
   ]
  },
  {
   "cell_type": "code",
   "execution_count": 66,
   "id": "a6af9e9e",
   "metadata": {},
   "outputs": [
    {
     "data": {
      "application/vnd.plotly.v1+json": {
       "config": {
        "plotlyServerURL": "https://plotly.com"
       },
       "data": [
        {
         "alignmentgroup": "True",
         "hovertemplate": "ClassSession=%{x}<br>Grade=%{y}<extra></extra>",
         "legendgroup": "Evening",
         "marker": {
          "color": "#636efa"
         },
         "name": "Evening",
         "notched": false,
         "offsetgroup": "Evening",
         "orientation": "v",
         "showlegend": true,
         "type": "box",
         "x": [
          "Evening",
          "Evening",
          "Evening",
          "Evening",
          "Evening",
          "Evening",
          "Evening",
          "Evening",
          "Evening",
          "Evening",
          "Evening",
          "Evening",
          "Evening",
          "Evening",
          "Evening",
          "Evening",
          "Evening",
          "Evening",
          "Evening",
          "Evening",
          "Evening",
          "Evening",
          "Evening",
          "Evening",
          "Evening",
          "Evening",
          "Evening",
          "Evening",
          "Evening",
          "Evening",
          "Evening",
          "Evening",
          "Evening",
          "Evening",
          "Evening",
          "Evening",
          "Evening",
          "Evening",
          "Evening",
          "Evening",
          "Evening",
          "Evening"
         ],
         "x0": " ",
         "xaxis": "x",
         "y": [
          91,
          81,
          80,
          70.3,
          78.7,
          64,
          72.7,
          72.7,
          75.7,
          75,
          70,
          77,
          72.7,
          74,
          77,
          61.7,
          69.7,
          83,
          68.3,
          74,
          71.7,
          67.7,
          76.7,
          74.3,
          80,
          68.3,
          74.3,
          76.7,
          77,
          73.7,
          79.3,
          77,
          79.7,
          73,
          84,
          72.7,
          70.7,
          77.3,
          71.3,
          79.3,
          75.7,
          74
         ],
         "y0": " ",
         "yaxis": "y"
        },
        {
         "alignmentgroup": "True",
         "hovertemplate": "ClassSession=%{x}<br>Grade=%{y}<extra></extra>",
         "legendgroup": "Morning",
         "marker": {
          "color": "#EF553B"
         },
         "name": "Morning",
         "notched": false,
         "offsetgroup": "Morning",
         "orientation": "v",
         "showlegend": true,
         "type": "box",
         "x": [
          "Morning",
          "Morning",
          "Morning",
          "Morning",
          "Morning",
          "Morning",
          "Morning",
          "Morning",
          "Morning",
          "Morning",
          "Morning",
          "Morning",
          "Morning",
          "Morning",
          "Morning",
          "Morning",
          "Morning",
          "Morning",
          "Morning",
          "Morning",
          "Morning",
          "Morning",
          "Morning",
          "Morning",
          "Morning",
          "Morning",
          "Morning",
          "Morning",
          "Morning",
          "Morning",
          "Morning",
          "Morning"
         ],
         "x0": " ",
         "xaxis": "x",
         "y": [
          57.7,
          76.7,
          79.3,
          82,
          91.3,
          82,
          82,
          85.3,
          79.3,
          79,
          82.3,
          85,
          81.3,
          86.7,
          84,
          86,
          81.7,
          82.3,
          86.7,
          82.3,
          80.3,
          82.7,
          84.7,
          83.7,
          79.7,
          79,
          80.7,
          82.3,
          79.3,
          82.3,
          82.7,
          86
         ],
         "y0": " ",
         "yaxis": "y"
        },
        {
         "alignmentgroup": "True",
         "hovertemplate": "ClassSession=%{x}<br>Grade=%{y}<extra></extra>",
         "legendgroup": "Afternoon",
         "marker": {
          "color": "#00cc96"
         },
         "name": "Afternoon",
         "notched": false,
         "offsetgroup": "Afternoon",
         "orientation": "v",
         "showlegend": true,
         "type": "box",
         "x": [
          "Afternoon",
          "Afternoon",
          "Afternoon",
          "Afternoon",
          "Afternoon",
          "Afternoon",
          "Afternoon",
          "Afternoon",
          "Afternoon",
          "Afternoon",
          "Afternoon",
          "Afternoon",
          "Afternoon",
          "Afternoon",
          "Afternoon",
          "Afternoon",
          "Afternoon",
          "Afternoon",
          "Afternoon",
          "Afternoon",
          "Afternoon",
          "Afternoon",
          "Afternoon",
          "Afternoon",
          "Afternoon",
          "Afternoon"
         ],
         "x0": " ",
         "xaxis": "x",
         "y": [
          62,
          74.3,
          78.3,
          75,
          69.3,
          71.7,
          73.3,
          71,
          81.3,
          79.3,
          74,
          75,
          82.3,
          80,
          79,
          77.3,
          78.3,
          74.3,
          77,
          76.3,
          80,
          75.7,
          84,
          74.7,
          77.7,
          81
         ],
         "y0": " ",
         "yaxis": "y"
        }
       ],
       "layout": {
        "boxmode": "overlay",
        "legend": {
         "title": {
          "text": "Class Session"
         },
         "tracegroupgap": 0
        },
        "margin": {
         "t": 60
        },
        "template": {
         "data": {
          "bar": [
           {
            "error_x": {
             "color": "#2a3f5f"
            },
            "error_y": {
             "color": "#2a3f5f"
            },
            "marker": {
             "line": {
              "color": "#E5ECF6",
              "width": 0.5
             },
             "pattern": {
              "fillmode": "overlay",
              "size": 10,
              "solidity": 0.2
             }
            },
            "type": "bar"
           }
          ],
          "barpolar": [
           {
            "marker": {
             "line": {
              "color": "#E5ECF6",
              "width": 0.5
             },
             "pattern": {
              "fillmode": "overlay",
              "size": 10,
              "solidity": 0.2
             }
            },
            "type": "barpolar"
           }
          ],
          "carpet": [
           {
            "aaxis": {
             "endlinecolor": "#2a3f5f",
             "gridcolor": "white",
             "linecolor": "white",
             "minorgridcolor": "white",
             "startlinecolor": "#2a3f5f"
            },
            "baxis": {
             "endlinecolor": "#2a3f5f",
             "gridcolor": "white",
             "linecolor": "white",
             "minorgridcolor": "white",
             "startlinecolor": "#2a3f5f"
            },
            "type": "carpet"
           }
          ],
          "choropleth": [
           {
            "colorbar": {
             "outlinewidth": 0,
             "ticks": ""
            },
            "type": "choropleth"
           }
          ],
          "contour": [
           {
            "colorbar": {
             "outlinewidth": 0,
             "ticks": ""
            },
            "colorscale": [
             [
              0,
              "#0d0887"
             ],
             [
              0.1111111111111111,
              "#46039f"
             ],
             [
              0.2222222222222222,
              "#7201a8"
             ],
             [
              0.3333333333333333,
              "#9c179e"
             ],
             [
              0.4444444444444444,
              "#bd3786"
             ],
             [
              0.5555555555555556,
              "#d8576b"
             ],
             [
              0.6666666666666666,
              "#ed7953"
             ],
             [
              0.7777777777777778,
              "#fb9f3a"
             ],
             [
              0.8888888888888888,
              "#fdca26"
             ],
             [
              1,
              "#f0f921"
             ]
            ],
            "type": "contour"
           }
          ],
          "contourcarpet": [
           {
            "colorbar": {
             "outlinewidth": 0,
             "ticks": ""
            },
            "type": "contourcarpet"
           }
          ],
          "heatmap": [
           {
            "colorbar": {
             "outlinewidth": 0,
             "ticks": ""
            },
            "colorscale": [
             [
              0,
              "#0d0887"
             ],
             [
              0.1111111111111111,
              "#46039f"
             ],
             [
              0.2222222222222222,
              "#7201a8"
             ],
             [
              0.3333333333333333,
              "#9c179e"
             ],
             [
              0.4444444444444444,
              "#bd3786"
             ],
             [
              0.5555555555555556,
              "#d8576b"
             ],
             [
              0.6666666666666666,
              "#ed7953"
             ],
             [
              0.7777777777777778,
              "#fb9f3a"
             ],
             [
              0.8888888888888888,
              "#fdca26"
             ],
             [
              1,
              "#f0f921"
             ]
            ],
            "type": "heatmap"
           }
          ],
          "heatmapgl": [
           {
            "colorbar": {
             "outlinewidth": 0,
             "ticks": ""
            },
            "colorscale": [
             [
              0,
              "#0d0887"
             ],
             [
              0.1111111111111111,
              "#46039f"
             ],
             [
              0.2222222222222222,
              "#7201a8"
             ],
             [
              0.3333333333333333,
              "#9c179e"
             ],
             [
              0.4444444444444444,
              "#bd3786"
             ],
             [
              0.5555555555555556,
              "#d8576b"
             ],
             [
              0.6666666666666666,
              "#ed7953"
             ],
             [
              0.7777777777777778,
              "#fb9f3a"
             ],
             [
              0.8888888888888888,
              "#fdca26"
             ],
             [
              1,
              "#f0f921"
             ]
            ],
            "type": "heatmapgl"
           }
          ],
          "histogram": [
           {
            "marker": {
             "pattern": {
              "fillmode": "overlay",
              "size": 10,
              "solidity": 0.2
             }
            },
            "type": "histogram"
           }
          ],
          "histogram2d": [
           {
            "colorbar": {
             "outlinewidth": 0,
             "ticks": ""
            },
            "colorscale": [
             [
              0,
              "#0d0887"
             ],
             [
              0.1111111111111111,
              "#46039f"
             ],
             [
              0.2222222222222222,
              "#7201a8"
             ],
             [
              0.3333333333333333,
              "#9c179e"
             ],
             [
              0.4444444444444444,
              "#bd3786"
             ],
             [
              0.5555555555555556,
              "#d8576b"
             ],
             [
              0.6666666666666666,
              "#ed7953"
             ],
             [
              0.7777777777777778,
              "#fb9f3a"
             ],
             [
              0.8888888888888888,
              "#fdca26"
             ],
             [
              1,
              "#f0f921"
             ]
            ],
            "type": "histogram2d"
           }
          ],
          "histogram2dcontour": [
           {
            "colorbar": {
             "outlinewidth": 0,
             "ticks": ""
            },
            "colorscale": [
             [
              0,
              "#0d0887"
             ],
             [
              0.1111111111111111,
              "#46039f"
             ],
             [
              0.2222222222222222,
              "#7201a8"
             ],
             [
              0.3333333333333333,
              "#9c179e"
             ],
             [
              0.4444444444444444,
              "#bd3786"
             ],
             [
              0.5555555555555556,
              "#d8576b"
             ],
             [
              0.6666666666666666,
              "#ed7953"
             ],
             [
              0.7777777777777778,
              "#fb9f3a"
             ],
             [
              0.8888888888888888,
              "#fdca26"
             ],
             [
              1,
              "#f0f921"
             ]
            ],
            "type": "histogram2dcontour"
           }
          ],
          "mesh3d": [
           {
            "colorbar": {
             "outlinewidth": 0,
             "ticks": ""
            },
            "type": "mesh3d"
           }
          ],
          "parcoords": [
           {
            "line": {
             "colorbar": {
              "outlinewidth": 0,
              "ticks": ""
             }
            },
            "type": "parcoords"
           }
          ],
          "pie": [
           {
            "automargin": true,
            "type": "pie"
           }
          ],
          "scatter": [
           {
            "fillpattern": {
             "fillmode": "overlay",
             "size": 10,
             "solidity": 0.2
            },
            "type": "scatter"
           }
          ],
          "scatter3d": [
           {
            "line": {
             "colorbar": {
              "outlinewidth": 0,
              "ticks": ""
             }
            },
            "marker": {
             "colorbar": {
              "outlinewidth": 0,
              "ticks": ""
             }
            },
            "type": "scatter3d"
           }
          ],
          "scattercarpet": [
           {
            "marker": {
             "colorbar": {
              "outlinewidth": 0,
              "ticks": ""
             }
            },
            "type": "scattercarpet"
           }
          ],
          "scattergeo": [
           {
            "marker": {
             "colorbar": {
              "outlinewidth": 0,
              "ticks": ""
             }
            },
            "type": "scattergeo"
           }
          ],
          "scattergl": [
           {
            "marker": {
             "colorbar": {
              "outlinewidth": 0,
              "ticks": ""
             }
            },
            "type": "scattergl"
           }
          ],
          "scattermapbox": [
           {
            "marker": {
             "colorbar": {
              "outlinewidth": 0,
              "ticks": ""
             }
            },
            "type": "scattermapbox"
           }
          ],
          "scatterpolar": [
           {
            "marker": {
             "colorbar": {
              "outlinewidth": 0,
              "ticks": ""
             }
            },
            "type": "scatterpolar"
           }
          ],
          "scatterpolargl": [
           {
            "marker": {
             "colorbar": {
              "outlinewidth": 0,
              "ticks": ""
             }
            },
            "type": "scatterpolargl"
           }
          ],
          "scatterternary": [
           {
            "marker": {
             "colorbar": {
              "outlinewidth": 0,
              "ticks": ""
             }
            },
            "type": "scatterternary"
           }
          ],
          "surface": [
           {
            "colorbar": {
             "outlinewidth": 0,
             "ticks": ""
            },
            "colorscale": [
             [
              0,
              "#0d0887"
             ],
             [
              0.1111111111111111,
              "#46039f"
             ],
             [
              0.2222222222222222,
              "#7201a8"
             ],
             [
              0.3333333333333333,
              "#9c179e"
             ],
             [
              0.4444444444444444,
              "#bd3786"
             ],
             [
              0.5555555555555556,
              "#d8576b"
             ],
             [
              0.6666666666666666,
              "#ed7953"
             ],
             [
              0.7777777777777778,
              "#fb9f3a"
             ],
             [
              0.8888888888888888,
              "#fdca26"
             ],
             [
              1,
              "#f0f921"
             ]
            ],
            "type": "surface"
           }
          ],
          "table": [
           {
            "cells": {
             "fill": {
              "color": "#EBF0F8"
             },
             "line": {
              "color": "white"
             }
            },
            "header": {
             "fill": {
              "color": "#C8D4E3"
             },
             "line": {
              "color": "white"
             }
            },
            "type": "table"
           }
          ]
         },
         "layout": {
          "annotationdefaults": {
           "arrowcolor": "#2a3f5f",
           "arrowhead": 0,
           "arrowwidth": 1
          },
          "autotypenumbers": "strict",
          "coloraxis": {
           "colorbar": {
            "outlinewidth": 0,
            "ticks": ""
           }
          },
          "colorscale": {
           "diverging": [
            [
             0,
             "#8e0152"
            ],
            [
             0.1,
             "#c51b7d"
            ],
            [
             0.2,
             "#de77ae"
            ],
            [
             0.3,
             "#f1b6da"
            ],
            [
             0.4,
             "#fde0ef"
            ],
            [
             0.5,
             "#f7f7f7"
            ],
            [
             0.6,
             "#e6f5d0"
            ],
            [
             0.7,
             "#b8e186"
            ],
            [
             0.8,
             "#7fbc41"
            ],
            [
             0.9,
             "#4d9221"
            ],
            [
             1,
             "#276419"
            ]
           ],
           "sequential": [
            [
             0,
             "#0d0887"
            ],
            [
             0.1111111111111111,
             "#46039f"
            ],
            [
             0.2222222222222222,
             "#7201a8"
            ],
            [
             0.3333333333333333,
             "#9c179e"
            ],
            [
             0.4444444444444444,
             "#bd3786"
            ],
            [
             0.5555555555555556,
             "#d8576b"
            ],
            [
             0.6666666666666666,
             "#ed7953"
            ],
            [
             0.7777777777777778,
             "#fb9f3a"
            ],
            [
             0.8888888888888888,
             "#fdca26"
            ],
            [
             1,
             "#f0f921"
            ]
           ],
           "sequentialminus": [
            [
             0,
             "#0d0887"
            ],
            [
             0.1111111111111111,
             "#46039f"
            ],
            [
             0.2222222222222222,
             "#7201a8"
            ],
            [
             0.3333333333333333,
             "#9c179e"
            ],
            [
             0.4444444444444444,
             "#bd3786"
            ],
            [
             0.5555555555555556,
             "#d8576b"
            ],
            [
             0.6666666666666666,
             "#ed7953"
            ],
            [
             0.7777777777777778,
             "#fb9f3a"
            ],
            [
             0.8888888888888888,
             "#fdca26"
            ],
            [
             1,
             "#f0f921"
            ]
           ]
          },
          "colorway": [
           "#636efa",
           "#EF553B",
           "#00cc96",
           "#ab63fa",
           "#FFA15A",
           "#19d3f3",
           "#FF6692",
           "#B6E880",
           "#FF97FF",
           "#FECB52"
          ],
          "font": {
           "color": "#2a3f5f"
          },
          "geo": {
           "bgcolor": "white",
           "lakecolor": "white",
           "landcolor": "#E5ECF6",
           "showlakes": true,
           "showland": true,
           "subunitcolor": "white"
          },
          "hoverlabel": {
           "align": "left"
          },
          "hovermode": "closest",
          "mapbox": {
           "style": "light"
          },
          "paper_bgcolor": "white",
          "plot_bgcolor": "#E5ECF6",
          "polar": {
           "angularaxis": {
            "gridcolor": "white",
            "linecolor": "white",
            "ticks": ""
           },
           "bgcolor": "#E5ECF6",
           "radialaxis": {
            "gridcolor": "white",
            "linecolor": "white",
            "ticks": ""
           }
          },
          "scene": {
           "xaxis": {
            "backgroundcolor": "#E5ECF6",
            "gridcolor": "white",
            "gridwidth": 2,
            "linecolor": "white",
            "showbackground": true,
            "ticks": "",
            "zerolinecolor": "white"
           },
           "yaxis": {
            "backgroundcolor": "#E5ECF6",
            "gridcolor": "white",
            "gridwidth": 2,
            "linecolor": "white",
            "showbackground": true,
            "ticks": "",
            "zerolinecolor": "white"
           },
           "zaxis": {
            "backgroundcolor": "#E5ECF6",
            "gridcolor": "white",
            "gridwidth": 2,
            "linecolor": "white",
            "showbackground": true,
            "ticks": "",
            "zerolinecolor": "white"
           }
          },
          "shapedefaults": {
           "line": {
            "color": "#2a3f5f"
           }
          },
          "ternary": {
           "aaxis": {
            "gridcolor": "white",
            "linecolor": "white",
            "ticks": ""
           },
           "baxis": {
            "gridcolor": "white",
            "linecolor": "white",
            "ticks": ""
           },
           "bgcolor": "#E5ECF6",
           "caxis": {
            "gridcolor": "white",
            "linecolor": "white",
            "ticks": ""
           }
          },
          "title": {
           "x": 0.05
          },
          "xaxis": {
           "automargin": true,
           "gridcolor": "white",
           "linecolor": "white",
           "ticks": "",
           "title": {
            "standoff": 15
           },
           "zerolinecolor": "white",
           "zerolinewidth": 2
          },
          "yaxis": {
           "automargin": true,
           "gridcolor": "white",
           "linecolor": "white",
           "ticks": "",
           "title": {
            "standoff": 15
           },
           "zerolinecolor": "white",
           "zerolinewidth": 2
          }
         }
        },
        "title": {
         "text": "Distribution of Final Grades by Class Session",
         "x": 0.45,
         "xanchor": "center",
         "yanchor": "top"
        },
        "xaxis": {
         "anchor": "y",
         "categoryarray": [
          "Evening",
          "Morning",
          "Afternoon"
         ],
         "categoryorder": "array",
         "domain": [
          0,
          1
         ],
         "title": {
          "text": ""
         }
        },
        "yaxis": {
         "anchor": "x",
         "domain": [
          0,
          1
         ],
         "title": {
          "text": "Final Grade"
         }
        }
       }
      },
      "text/html": [
       "<div>                            <div id=\"dd8b2a7c-7db8-434b-9b18-9f4b538d7a0c\" class=\"plotly-graph-div\" style=\"height:525px; width:100%;\"></div>            <script type=\"text/javascript\">                require([\"plotly\"], function(Plotly) {                    window.PLOTLYENV=window.PLOTLYENV || {};                                    if (document.getElementById(\"dd8b2a7c-7db8-434b-9b18-9f4b538d7a0c\")) {                    Plotly.newPlot(                        \"dd8b2a7c-7db8-434b-9b18-9f4b538d7a0c\",                        [{\"alignmentgroup\":\"True\",\"hovertemplate\":\"ClassSession=%{x}<br>Grade=%{y}<extra></extra>\",\"legendgroup\":\"Evening\",\"marker\":{\"color\":\"#636efa\"},\"name\":\"Evening\",\"notched\":false,\"offsetgroup\":\"Evening\",\"orientation\":\"v\",\"showlegend\":true,\"x\":[\"Evening\",\"Evening\",\"Evening\",\"Evening\",\"Evening\",\"Evening\",\"Evening\",\"Evening\",\"Evening\",\"Evening\",\"Evening\",\"Evening\",\"Evening\",\"Evening\",\"Evening\",\"Evening\",\"Evening\",\"Evening\",\"Evening\",\"Evening\",\"Evening\",\"Evening\",\"Evening\",\"Evening\",\"Evening\",\"Evening\",\"Evening\",\"Evening\",\"Evening\",\"Evening\",\"Evening\",\"Evening\",\"Evening\",\"Evening\",\"Evening\",\"Evening\",\"Evening\",\"Evening\",\"Evening\",\"Evening\",\"Evening\",\"Evening\"],\"x0\":\" \",\"xaxis\":\"x\",\"y\":[91.0,81.0,80.0,70.3,78.7,64.0,72.7,72.7,75.7,75.0,70.0,77.0,72.7,74.0,77.0,61.7,69.7,83.0,68.3,74.0,71.7,67.7,76.7,74.3,80.0,68.3,74.3,76.7,77.0,73.7,79.3,77.0,79.7,73.0,84.0,72.7,70.7,77.3,71.3,79.3,75.7,74.0],\"y0\":\" \",\"yaxis\":\"y\",\"type\":\"box\"},{\"alignmentgroup\":\"True\",\"hovertemplate\":\"ClassSession=%{x}<br>Grade=%{y}<extra></extra>\",\"legendgroup\":\"Morning\",\"marker\":{\"color\":\"#EF553B\"},\"name\":\"Morning\",\"notched\":false,\"offsetgroup\":\"Morning\",\"orientation\":\"v\",\"showlegend\":true,\"x\":[\"Morning\",\"Morning\",\"Morning\",\"Morning\",\"Morning\",\"Morning\",\"Morning\",\"Morning\",\"Morning\",\"Morning\",\"Morning\",\"Morning\",\"Morning\",\"Morning\",\"Morning\",\"Morning\",\"Morning\",\"Morning\",\"Morning\",\"Morning\",\"Morning\",\"Morning\",\"Morning\",\"Morning\",\"Morning\",\"Morning\",\"Morning\",\"Morning\",\"Morning\",\"Morning\",\"Morning\",\"Morning\"],\"x0\":\" \",\"xaxis\":\"x\",\"y\":[57.7,76.7,79.3,82.0,91.3,82.0,82.0,85.3,79.3,79.0,82.3,85.0,81.3,86.7,84.0,86.0,81.7,82.3,86.7,82.3,80.3,82.7,84.7,83.7,79.7,79.0,80.7,82.3,79.3,82.3,82.7,86.0],\"y0\":\" \",\"yaxis\":\"y\",\"type\":\"box\"},{\"alignmentgroup\":\"True\",\"hovertemplate\":\"ClassSession=%{x}<br>Grade=%{y}<extra></extra>\",\"legendgroup\":\"Afternoon\",\"marker\":{\"color\":\"#00cc96\"},\"name\":\"Afternoon\",\"notched\":false,\"offsetgroup\":\"Afternoon\",\"orientation\":\"v\",\"showlegend\":true,\"x\":[\"Afternoon\",\"Afternoon\",\"Afternoon\",\"Afternoon\",\"Afternoon\",\"Afternoon\",\"Afternoon\",\"Afternoon\",\"Afternoon\",\"Afternoon\",\"Afternoon\",\"Afternoon\",\"Afternoon\",\"Afternoon\",\"Afternoon\",\"Afternoon\",\"Afternoon\",\"Afternoon\",\"Afternoon\",\"Afternoon\",\"Afternoon\",\"Afternoon\",\"Afternoon\",\"Afternoon\",\"Afternoon\",\"Afternoon\"],\"x0\":\" \",\"xaxis\":\"x\",\"y\":[62.0,74.3,78.3,75.0,69.3,71.7,73.3,71.0,81.3,79.3,74.0,75.0,82.3,80.0,79.0,77.3,78.3,74.3,77.0,76.3,80.0,75.7,84.0,74.7,77.7,81.0],\"y0\":\" \",\"yaxis\":\"y\",\"type\":\"box\"}],                        {\"template\":{\"data\":{\"histogram2dcontour\":[{\"type\":\"histogram2dcontour\",\"colorbar\":{\"outlinewidth\":0,\"ticks\":\"\"},\"colorscale\":[[0.0,\"#0d0887\"],[0.1111111111111111,\"#46039f\"],[0.2222222222222222,\"#7201a8\"],[0.3333333333333333,\"#9c179e\"],[0.4444444444444444,\"#bd3786\"],[0.5555555555555556,\"#d8576b\"],[0.6666666666666666,\"#ed7953\"],[0.7777777777777778,\"#fb9f3a\"],[0.8888888888888888,\"#fdca26\"],[1.0,\"#f0f921\"]]}],\"choropleth\":[{\"type\":\"choropleth\",\"colorbar\":{\"outlinewidth\":0,\"ticks\":\"\"}}],\"histogram2d\":[{\"type\":\"histogram2d\",\"colorbar\":{\"outlinewidth\":0,\"ticks\":\"\"},\"colorscale\":[[0.0,\"#0d0887\"],[0.1111111111111111,\"#46039f\"],[0.2222222222222222,\"#7201a8\"],[0.3333333333333333,\"#9c179e\"],[0.4444444444444444,\"#bd3786\"],[0.5555555555555556,\"#d8576b\"],[0.6666666666666666,\"#ed7953\"],[0.7777777777777778,\"#fb9f3a\"],[0.8888888888888888,\"#fdca26\"],[1.0,\"#f0f921\"]]}],\"heatmap\":[{\"type\":\"heatmap\",\"colorbar\":{\"outlinewidth\":0,\"ticks\":\"\"},\"colorscale\":[[0.0,\"#0d0887\"],[0.1111111111111111,\"#46039f\"],[0.2222222222222222,\"#7201a8\"],[0.3333333333333333,\"#9c179e\"],[0.4444444444444444,\"#bd3786\"],[0.5555555555555556,\"#d8576b\"],[0.6666666666666666,\"#ed7953\"],[0.7777777777777778,\"#fb9f3a\"],[0.8888888888888888,\"#fdca26\"],[1.0,\"#f0f921\"]]}],\"heatmapgl\":[{\"type\":\"heatmapgl\",\"colorbar\":{\"outlinewidth\":0,\"ticks\":\"\"},\"colorscale\":[[0.0,\"#0d0887\"],[0.1111111111111111,\"#46039f\"],[0.2222222222222222,\"#7201a8\"],[0.3333333333333333,\"#9c179e\"],[0.4444444444444444,\"#bd3786\"],[0.5555555555555556,\"#d8576b\"],[0.6666666666666666,\"#ed7953\"],[0.7777777777777778,\"#fb9f3a\"],[0.8888888888888888,\"#fdca26\"],[1.0,\"#f0f921\"]]}],\"contourcarpet\":[{\"type\":\"contourcarpet\",\"colorbar\":{\"outlinewidth\":0,\"ticks\":\"\"}}],\"contour\":[{\"type\":\"contour\",\"colorbar\":{\"outlinewidth\":0,\"ticks\":\"\"},\"colorscale\":[[0.0,\"#0d0887\"],[0.1111111111111111,\"#46039f\"],[0.2222222222222222,\"#7201a8\"],[0.3333333333333333,\"#9c179e\"],[0.4444444444444444,\"#bd3786\"],[0.5555555555555556,\"#d8576b\"],[0.6666666666666666,\"#ed7953\"],[0.7777777777777778,\"#fb9f3a\"],[0.8888888888888888,\"#fdca26\"],[1.0,\"#f0f921\"]]}],\"surface\":[{\"type\":\"surface\",\"colorbar\":{\"outlinewidth\":0,\"ticks\":\"\"},\"colorscale\":[[0.0,\"#0d0887\"],[0.1111111111111111,\"#46039f\"],[0.2222222222222222,\"#7201a8\"],[0.3333333333333333,\"#9c179e\"],[0.4444444444444444,\"#bd3786\"],[0.5555555555555556,\"#d8576b\"],[0.6666666666666666,\"#ed7953\"],[0.7777777777777778,\"#fb9f3a\"],[0.8888888888888888,\"#fdca26\"],[1.0,\"#f0f921\"]]}],\"mesh3d\":[{\"type\":\"mesh3d\",\"colorbar\":{\"outlinewidth\":0,\"ticks\":\"\"}}],\"scatter\":[{\"fillpattern\":{\"fillmode\":\"overlay\",\"size\":10,\"solidity\":0.2},\"type\":\"scatter\"}],\"parcoords\":[{\"type\":\"parcoords\",\"line\":{\"colorbar\":{\"outlinewidth\":0,\"ticks\":\"\"}}}],\"scatterpolargl\":[{\"type\":\"scatterpolargl\",\"marker\":{\"colorbar\":{\"outlinewidth\":0,\"ticks\":\"\"}}}],\"bar\":[{\"error_x\":{\"color\":\"#2a3f5f\"},\"error_y\":{\"color\":\"#2a3f5f\"},\"marker\":{\"line\":{\"color\":\"#E5ECF6\",\"width\":0.5},\"pattern\":{\"fillmode\":\"overlay\",\"size\":10,\"solidity\":0.2}},\"type\":\"bar\"}],\"scattergeo\":[{\"type\":\"scattergeo\",\"marker\":{\"colorbar\":{\"outlinewidth\":0,\"ticks\":\"\"}}}],\"scatterpolar\":[{\"type\":\"scatterpolar\",\"marker\":{\"colorbar\":{\"outlinewidth\":0,\"ticks\":\"\"}}}],\"histogram\":[{\"marker\":{\"pattern\":{\"fillmode\":\"overlay\",\"size\":10,\"solidity\":0.2}},\"type\":\"histogram\"}],\"scattergl\":[{\"type\":\"scattergl\",\"marker\":{\"colorbar\":{\"outlinewidth\":0,\"ticks\":\"\"}}}],\"scatter3d\":[{\"type\":\"scatter3d\",\"line\":{\"colorbar\":{\"outlinewidth\":0,\"ticks\":\"\"}},\"marker\":{\"colorbar\":{\"outlinewidth\":0,\"ticks\":\"\"}}}],\"scattermapbox\":[{\"type\":\"scattermapbox\",\"marker\":{\"colorbar\":{\"outlinewidth\":0,\"ticks\":\"\"}}}],\"scatterternary\":[{\"type\":\"scatterternary\",\"marker\":{\"colorbar\":{\"outlinewidth\":0,\"ticks\":\"\"}}}],\"scattercarpet\":[{\"type\":\"scattercarpet\",\"marker\":{\"colorbar\":{\"outlinewidth\":0,\"ticks\":\"\"}}}],\"carpet\":[{\"aaxis\":{\"endlinecolor\":\"#2a3f5f\",\"gridcolor\":\"white\",\"linecolor\":\"white\",\"minorgridcolor\":\"white\",\"startlinecolor\":\"#2a3f5f\"},\"baxis\":{\"endlinecolor\":\"#2a3f5f\",\"gridcolor\":\"white\",\"linecolor\":\"white\",\"minorgridcolor\":\"white\",\"startlinecolor\":\"#2a3f5f\"},\"type\":\"carpet\"}],\"table\":[{\"cells\":{\"fill\":{\"color\":\"#EBF0F8\"},\"line\":{\"color\":\"white\"}},\"header\":{\"fill\":{\"color\":\"#C8D4E3\"},\"line\":{\"color\":\"white\"}},\"type\":\"table\"}],\"barpolar\":[{\"marker\":{\"line\":{\"color\":\"#E5ECF6\",\"width\":0.5},\"pattern\":{\"fillmode\":\"overlay\",\"size\":10,\"solidity\":0.2}},\"type\":\"barpolar\"}],\"pie\":[{\"automargin\":true,\"type\":\"pie\"}]},\"layout\":{\"autotypenumbers\":\"strict\",\"colorway\":[\"#636efa\",\"#EF553B\",\"#00cc96\",\"#ab63fa\",\"#FFA15A\",\"#19d3f3\",\"#FF6692\",\"#B6E880\",\"#FF97FF\",\"#FECB52\"],\"font\":{\"color\":\"#2a3f5f\"},\"hovermode\":\"closest\",\"hoverlabel\":{\"align\":\"left\"},\"paper_bgcolor\":\"white\",\"plot_bgcolor\":\"#E5ECF6\",\"polar\":{\"bgcolor\":\"#E5ECF6\",\"angularaxis\":{\"gridcolor\":\"white\",\"linecolor\":\"white\",\"ticks\":\"\"},\"radialaxis\":{\"gridcolor\":\"white\",\"linecolor\":\"white\",\"ticks\":\"\"}},\"ternary\":{\"bgcolor\":\"#E5ECF6\",\"aaxis\":{\"gridcolor\":\"white\",\"linecolor\":\"white\",\"ticks\":\"\"},\"baxis\":{\"gridcolor\":\"white\",\"linecolor\":\"white\",\"ticks\":\"\"},\"caxis\":{\"gridcolor\":\"white\",\"linecolor\":\"white\",\"ticks\":\"\"}},\"coloraxis\":{\"colorbar\":{\"outlinewidth\":0,\"ticks\":\"\"}},\"colorscale\":{\"sequential\":[[0.0,\"#0d0887\"],[0.1111111111111111,\"#46039f\"],[0.2222222222222222,\"#7201a8\"],[0.3333333333333333,\"#9c179e\"],[0.4444444444444444,\"#bd3786\"],[0.5555555555555556,\"#d8576b\"],[0.6666666666666666,\"#ed7953\"],[0.7777777777777778,\"#fb9f3a\"],[0.8888888888888888,\"#fdca26\"],[1.0,\"#f0f921\"]],\"sequentialminus\":[[0.0,\"#0d0887\"],[0.1111111111111111,\"#46039f\"],[0.2222222222222222,\"#7201a8\"],[0.3333333333333333,\"#9c179e\"],[0.4444444444444444,\"#bd3786\"],[0.5555555555555556,\"#d8576b\"],[0.6666666666666666,\"#ed7953\"],[0.7777777777777778,\"#fb9f3a\"],[0.8888888888888888,\"#fdca26\"],[1.0,\"#f0f921\"]],\"diverging\":[[0,\"#8e0152\"],[0.1,\"#c51b7d\"],[0.2,\"#de77ae\"],[0.3,\"#f1b6da\"],[0.4,\"#fde0ef\"],[0.5,\"#f7f7f7\"],[0.6,\"#e6f5d0\"],[0.7,\"#b8e186\"],[0.8,\"#7fbc41\"],[0.9,\"#4d9221\"],[1,\"#276419\"]]},\"xaxis\":{\"gridcolor\":\"white\",\"linecolor\":\"white\",\"ticks\":\"\",\"title\":{\"standoff\":15},\"zerolinecolor\":\"white\",\"automargin\":true,\"zerolinewidth\":2},\"yaxis\":{\"gridcolor\":\"white\",\"linecolor\":\"white\",\"ticks\":\"\",\"title\":{\"standoff\":15},\"zerolinecolor\":\"white\",\"automargin\":true,\"zerolinewidth\":2},\"scene\":{\"xaxis\":{\"backgroundcolor\":\"#E5ECF6\",\"gridcolor\":\"white\",\"linecolor\":\"white\",\"showbackground\":true,\"ticks\":\"\",\"zerolinecolor\":\"white\",\"gridwidth\":2},\"yaxis\":{\"backgroundcolor\":\"#E5ECF6\",\"gridcolor\":\"white\",\"linecolor\":\"white\",\"showbackground\":true,\"ticks\":\"\",\"zerolinecolor\":\"white\",\"gridwidth\":2},\"zaxis\":{\"backgroundcolor\":\"#E5ECF6\",\"gridcolor\":\"white\",\"linecolor\":\"white\",\"showbackground\":true,\"ticks\":\"\",\"zerolinecolor\":\"white\",\"gridwidth\":2}},\"shapedefaults\":{\"line\":{\"color\":\"#2a3f5f\"}},\"annotationdefaults\":{\"arrowcolor\":\"#2a3f5f\",\"arrowhead\":0,\"arrowwidth\":1},\"geo\":{\"bgcolor\":\"white\",\"landcolor\":\"#E5ECF6\",\"subunitcolor\":\"white\",\"showland\":true,\"showlakes\":true,\"lakecolor\":\"white\"},\"title\":{\"x\":0.05},\"mapbox\":{\"style\":\"light\"}}},\"xaxis\":{\"anchor\":\"y\",\"domain\":[0.0,1.0],\"title\":{\"text\":\"\"},\"categoryorder\":\"array\",\"categoryarray\":[\"Evening\",\"Morning\",\"Afternoon\"]},\"yaxis\":{\"anchor\":\"x\",\"domain\":[0.0,1.0],\"title\":{\"text\":\"Final Grade\"}},\"legend\":{\"title\":{\"text\":\"Class Session\"},\"tracegroupgap\":0},\"margin\":{\"t\":60},\"boxmode\":\"overlay\",\"title\":{\"text\":\"Distribution of Final Grades by Class Session\",\"xanchor\":\"center\",\"yanchor\":\"top\",\"x\":0.45}},                        {\"responsive\": true}                    ).then(function(){\n",
       "                            \n",
       "var gd = document.getElementById('dd8b2a7c-7db8-434b-9b18-9f4b538d7a0c');\n",
       "var x = new MutationObserver(function (mutations, observer) {{\n",
       "        var display = window.getComputedStyle(gd).display;\n",
       "        if (!display || display === 'none') {{\n",
       "            console.log([gd, 'removed!']);\n",
       "            Plotly.purge(gd);\n",
       "            observer.disconnect();\n",
       "        }}\n",
       "}});\n",
       "\n",
       "// Listen for the removal of the full notebook cells\n",
       "var notebookContainer = gd.closest('#notebook-container');\n",
       "if (notebookContainer) {{\n",
       "    x.observe(notebookContainer, {childList: true});\n",
       "}}\n",
       "\n",
       "// Listen for the clearing of the current output cell\n",
       "var outputEl = gd.closest('.output');\n",
       "if (outputEl) {{\n",
       "    x.observe(outputEl, {childList: true});\n",
       "}}\n",
       "\n",
       "                        })                };                });            </script>        </div>"
      ]
     },
     "metadata": {},
     "output_type": "display_data"
    }
   ],
   "source": [
    "# Visualize Grade Distributions:\n",
    "\n",
    "plot = px.box(df, x='ClassSession', y='Grade', color='ClassSession')\n",
    "plot.update_layout(\n",
    "    title={'text': \"Distribution of Final Grades by Class Session\",\n",
    "           'xanchor': 'center',\n",
    "           'yanchor': 'top',\n",
    "           'x': 0.45},\n",
    "    legend_title_text='Class Session',\n",
    "    xaxis_title='',\n",
    "    yaxis_title='Final Grade')\n",
    "plot.show()"
   ]
  },
  {
   "cell_type": "code",
   "execution_count": 67,
   "id": "1e5b50e6",
   "metadata": {},
   "outputs": [
    {
     "data": {
      "application/vnd.plotly.v1+json": {
       "config": {
        "plotlyServerURL": "https://plotly.com"
       },
       "data": [
        {
         "hovertemplate": "ClassSession=Morning<br>Student=%{x}<br>value=%{y}<extra></extra>",
         "legendgroup": "Morning",
         "marker": {
          "color": "#636efa",
          "symbol": "circle"
         },
         "mode": "markers",
         "name": "Morning",
         "orientation": "v",
         "showlegend": true,
         "type": "scatter",
         "x": [
          "Taylor Miller",
          "Rebecca Clark",
          "Teresa Mills",
          "Benjamin Roberts",
          "Christina Blankenship",
          "Sarah Gross",
          "Andrew Roth",
          "Amber Wilson",
          "Brooke Pope",
          "Phillip Miller",
          "Christopher Myers",
          "Erin Sandoval",
          "Ryan Foster",
          "Colleen Coleman",
          "Lisa Weaver",
          "Sally Hernandez",
          "Sally Clark",
          "Mrs. Amanda Johnston",
          "Crystal Wiggins",
          "Jennifer Harrison",
          "Dawn Wyatt",
          "Amy Taylor",
          "Zachary Ward",
          "Leslie Hood",
          "Lori Mills",
          "Jose Lowe Jr.",
          "Andrew Pope",
          "Vanessa Contreras",
          "John Day",
          "Katherine Moore",
          "Justin Walker",
          "Emily Lopez",
          "Taylor Miller",
          "Rebecca Clark",
          "Teresa Mills",
          "Benjamin Roberts",
          "Christina Blankenship",
          "Sarah Gross",
          "Andrew Roth",
          "Amber Wilson",
          "Brooke Pope",
          "Phillip Miller",
          "Christopher Myers",
          "Erin Sandoval",
          "Ryan Foster",
          "Colleen Coleman",
          "Lisa Weaver",
          "Sally Hernandez",
          "Sally Clark",
          "Mrs. Amanda Johnston",
          "Crystal Wiggins",
          "Jennifer Harrison",
          "Dawn Wyatt",
          "Amy Taylor",
          "Zachary Ward",
          "Leslie Hood",
          "Lori Mills",
          "Jose Lowe Jr.",
          "Andrew Pope",
          "Vanessa Contreras",
          "John Day",
          "Katherine Moore",
          "Justin Walker",
          "Emily Lopez",
          "Taylor Miller",
          "Rebecca Clark",
          "Teresa Mills",
          "Benjamin Roberts",
          "Christina Blankenship",
          "Sarah Gross",
          "Andrew Roth",
          "Amber Wilson",
          "Brooke Pope",
          "Phillip Miller",
          "Christopher Myers",
          "Erin Sandoval",
          "Ryan Foster",
          "Colleen Coleman",
          "Lisa Weaver",
          "Sally Hernandez",
          "Sally Clark",
          "Mrs. Amanda Johnston",
          "Crystal Wiggins",
          "Jennifer Harrison",
          "Dawn Wyatt",
          "Amy Taylor",
          "Zachary Ward",
          "Leslie Hood",
          "Lori Mills",
          "Jose Lowe Jr.",
          "Andrew Pope",
          "Vanessa Contreras",
          "John Day",
          "Katherine Moore",
          "Justin Walker",
          "Emily Lopez"
         ],
         "xaxis": "x",
         "y": [
          98,
          85,
          91,
          83,
          90,
          86,
          89,
          83,
          87,
          86,
          80,
          82,
          87,
          81,
          72,
          90,
          92,
          82,
          78,
          78,
          76,
          89,
          82,
          72,
          81,
          72,
          76,
          76,
          77,
          70,
          80,
          61,
          86,
          85,
          74,
          80,
          77,
          74,
          78,
          85,
          79,
          76,
          78,
          77,
          71,
          74,
          88,
          71,
          72,
          80,
          74,
          79,
          75,
          72,
          73,
          74,
          74,
          78,
          74,
          74,
          69,
          80,
          63,
          55,
          90,
          90,
          95,
          95,
          91,
          96,
          88,
          86,
          86,
          89,
          90,
          89,
          89,
          92,
          87,
          86,
          83,
          84,
          94,
          89,
          94,
          83,
          87,
          95,
          84,
          88,
          88,
          88,
          91,
          87,
          87,
          57
         ],
         "yaxis": "y"
        },
        {
         "hovertemplate": "ClassSession=Evening<br>Student=%{x}<br>value=%{y}<extra></extra>",
         "legendgroup": "Evening",
         "marker": {
          "color": "#EF553B",
          "symbol": "circle"
         },
         "mode": "markers",
         "name": "Evening",
         "orientation": "v",
         "showlegend": true,
         "type": "scatter",
         "x": [
          "Daisy Payne",
          "Amy Forbes MD",
          "Debra Phillips",
          "Brittany Shaw",
          "Benjamin Bell",
          "Mrs. Linda Johnson",
          "Mark Johnson",
          "Julie Roach",
          "Alison Henry",
          "Amber Simon",
          "Amanda Barajas",
          "Vanessa Hull",
          "Jade Byrd",
          "Kelly Fuentes",
          "Steven Davis",
          "Brandon Ramsey",
          "Lori Welch",
          "Sandra Baker",
          "Jane Wu",
          "Antonio Griffin",
          "Rebecca Jones",
          "Jesus Hayes",
          "Rebecca Kelley",
          "Nicole Wheeler",
          "Wanda Velasquez",
          "John Howard",
          "David Green",
          "Angela Kidd",
          "Arthur Lopez",
          "Michael Heath",
          "Kenneth Barrett",
          "Richard Lee",
          "Sandra Morris",
          "Sheila Jones",
          "Blake Browning",
          "Jasmine Castillo",
          "Cynthia Jones",
          "Michael Carlson",
          "David Cooke",
          "Stephen Wu",
          "Kim Wallace",
          "Cole Richard",
          "Daisy Payne",
          "Amy Forbes MD",
          "Debra Phillips",
          "Brittany Shaw",
          "Benjamin Bell",
          "Mrs. Linda Johnson",
          "Mark Johnson",
          "Julie Roach",
          "Alison Henry",
          "Amber Simon",
          "Amanda Barajas",
          "Vanessa Hull",
          "Jade Byrd",
          "Kelly Fuentes",
          "Steven Davis",
          "Brandon Ramsey",
          "Lori Welch",
          "Sandra Baker",
          "Jane Wu",
          "Antonio Griffin",
          "Rebecca Jones",
          "Jesus Hayes",
          "Rebecca Kelley",
          "Nicole Wheeler",
          "Wanda Velasquez",
          "John Howard",
          "David Green",
          "Angela Kidd",
          "Arthur Lopez",
          "Michael Heath",
          "Kenneth Barrett",
          "Richard Lee",
          "Sandra Morris",
          "Sheila Jones",
          "Blake Browning",
          "Jasmine Castillo",
          "Cynthia Jones",
          "Michael Carlson",
          "David Cooke",
          "Stephen Wu",
          "Kim Wallace",
          "Cole Richard",
          "Daisy Payne",
          "Amy Forbes MD",
          "Debra Phillips",
          "Brittany Shaw",
          "Benjamin Bell",
          "Mrs. Linda Johnson",
          "Mark Johnson",
          "Julie Roach",
          "Alison Henry",
          "Amber Simon",
          "Amanda Barajas",
          "Vanessa Hull",
          "Jade Byrd",
          "Kelly Fuentes",
          "Steven Davis",
          "Brandon Ramsey",
          "Lori Welch",
          "Sandra Baker",
          "Jane Wu",
          "Antonio Griffin",
          "Rebecca Jones",
          "Jesus Hayes",
          "Rebecca Kelley",
          "Nicole Wheeler",
          "Wanda Velasquez",
          "John Howard",
          "David Green",
          "Angela Kidd",
          "Arthur Lopez",
          "Michael Heath",
          "Kenneth Barrett",
          "Richard Lee",
          "Sandra Morris",
          "Sheila Jones",
          "Blake Browning",
          "Jasmine Castillo",
          "Cynthia Jones",
          "Michael Carlson",
          "David Cooke",
          "Stephen Wu",
          "Kim Wallace",
          "Cole Richard"
         ],
         "xaxis": "x",
         "y": [
          88,
          80,
          83,
          73,
          84,
          65,
          90,
          77,
          73,
          84,
          71,
          84,
          66,
          72,
          76,
          80,
          80,
          81,
          76,
          86,
          75,
          74,
          78,
          67,
          66,
          67,
          80,
          75,
          71,
          72,
          79,
          59,
          62,
          70,
          71,
          71,
          69,
          69,
          63,
          66,
          66,
          73,
          90,
          72,
          67,
          70,
          77,
          82,
          66,
          76,
          76,
          70,
          74,
          66,
          76,
          81,
          66,
          65,
          69,
          67,
          67,
          62,
          68,
          68,
          65,
          65,
          65,
          73,
          70,
          63,
          68,
          59,
          61,
          64,
          66,
          72,
          68,
          66,
          70,
          69,
          71,
          66,
          58,
          56,
          95,
          100,
          99,
          100,
          79,
          93,
          83,
          85,
          89,
          82,
          87,
          81,
          89,
          78,
          89,
          85,
          81,
          79,
          84,
          77,
          80,
          81,
          79,
          90,
          91,
          81,
          69,
          80,
          79,
          87,
          78,
          92,
          86,
          70,
          72,
          73,
          70,
          67,
          71,
          71,
          68,
          56
         ],
         "yaxis": "y"
        },
        {
         "hovertemplate": "ClassSession=Afternoon<br>Student=%{x}<br>value=%{y}<extra></extra>",
         "legendgroup": "Afternoon",
         "marker": {
          "color": "#00cc96",
          "symbol": "circle"
         },
         "mode": "markers",
         "name": "Afternoon",
         "orientation": "v",
         "showlegend": true,
         "type": "scatter",
         "x": [
          "Tracey Ryan",
          "Kelly Young MD",
          "Sarah Rivers",
          "Michael Banks",
          "Travis Higgins",
          "Russell Johnson",
          "Daniel Rivera",
          "Jeremy Costa",
          "Chad Higgins",
          "Cole Irwin",
          "Amber Howard",
          "Jonathan Donovan",
          "Derrick Evans",
          "Melinda Ortiz",
          "Thomas Mccullough",
          "Danielle Singh",
          "Albert Ramirez",
          "Brittany Mcgee",
          "Heather Johnson",
          "Kimberly Price",
          "Laura Sawyer",
          "Jane Hayes",
          "Dennis Bishop",
          "Ashley Jones",
          "Peter Stark",
          "Jennifer Townsend",
          "Tracey Ryan",
          "Kelly Young MD",
          "Sarah Rivers",
          "Michael Banks",
          "Travis Higgins",
          "Russell Johnson",
          "Daniel Rivera",
          "Jeremy Costa",
          "Chad Higgins",
          "Cole Irwin",
          "Amber Howard",
          "Jonathan Donovan",
          "Derrick Evans",
          "Melinda Ortiz",
          "Thomas Mccullough",
          "Danielle Singh",
          "Albert Ramirez",
          "Brittany Mcgee",
          "Heather Johnson",
          "Kimberly Price",
          "Laura Sawyer",
          "Jane Hayes",
          "Dennis Bishop",
          "Ashley Jones",
          "Peter Stark",
          "Jennifer Townsend",
          "Tracey Ryan",
          "Kelly Young MD",
          "Sarah Rivers",
          "Michael Banks",
          "Travis Higgins",
          "Russell Johnson",
          "Daniel Rivera",
          "Jeremy Costa",
          "Chad Higgins",
          "Cole Irwin",
          "Amber Howard",
          "Jonathan Donovan",
          "Derrick Evans",
          "Melinda Ortiz",
          "Thomas Mccullough",
          "Danielle Singh",
          "Albert Ramirez",
          "Brittany Mcgee",
          "Heather Johnson",
          "Kimberly Price",
          "Laura Sawyer",
          "Jane Hayes",
          "Dennis Bishop",
          "Ashley Jones",
          "Peter Stark",
          "Jennifer Townsend"
         ],
         "xaxis": "x",
         "y": [
          82,
          81,
          86,
          70,
          82,
          70,
          79,
          76,
          80,
          75,
          82,
          80,
          80,
          74,
          77,
          82,
          68,
          71,
          77,
          74,
          79,
          74,
          72,
          71,
          74,
          50,
          80,
          66,
          67,
          73,
          69,
          81,
          67,
          72,
          68,
          76,
          64,
          60,
          66,
          58,
          73,
          73,
          80,
          76,
          62,
          69,
          51,
          65,
          61,
          53,
          58,
          61,
          90,
          100,
          91,
          100,
          89,
          89,
          92,
          89,
          87,
          84,
          87,
          92,
          85,
          97,
          77,
          70,
          77,
          77,
          84,
          80,
          92,
          81,
          82,
          89,
          76,
          75
         ],
         "yaxis": "y"
        }
       ],
       "layout": {
        "legend": {
         "title": {
          "text": "ClassSession"
         },
         "tracegroupgap": 0
        },
        "margin": {
         "t": 60
        },
        "template": {
         "data": {
          "bar": [
           {
            "error_x": {
             "color": "#2a3f5f"
            },
            "error_y": {
             "color": "#2a3f5f"
            },
            "marker": {
             "line": {
              "color": "#E5ECF6",
              "width": 0.5
             },
             "pattern": {
              "fillmode": "overlay",
              "size": 10,
              "solidity": 0.2
             }
            },
            "type": "bar"
           }
          ],
          "barpolar": [
           {
            "marker": {
             "line": {
              "color": "#E5ECF6",
              "width": 0.5
             },
             "pattern": {
              "fillmode": "overlay",
              "size": 10,
              "solidity": 0.2
             }
            },
            "type": "barpolar"
           }
          ],
          "carpet": [
           {
            "aaxis": {
             "endlinecolor": "#2a3f5f",
             "gridcolor": "white",
             "linecolor": "white",
             "minorgridcolor": "white",
             "startlinecolor": "#2a3f5f"
            },
            "baxis": {
             "endlinecolor": "#2a3f5f",
             "gridcolor": "white",
             "linecolor": "white",
             "minorgridcolor": "white",
             "startlinecolor": "#2a3f5f"
            },
            "type": "carpet"
           }
          ],
          "choropleth": [
           {
            "colorbar": {
             "outlinewidth": 0,
             "ticks": ""
            },
            "type": "choropleth"
           }
          ],
          "contour": [
           {
            "colorbar": {
             "outlinewidth": 0,
             "ticks": ""
            },
            "colorscale": [
             [
              0,
              "#0d0887"
             ],
             [
              0.1111111111111111,
              "#46039f"
             ],
             [
              0.2222222222222222,
              "#7201a8"
             ],
             [
              0.3333333333333333,
              "#9c179e"
             ],
             [
              0.4444444444444444,
              "#bd3786"
             ],
             [
              0.5555555555555556,
              "#d8576b"
             ],
             [
              0.6666666666666666,
              "#ed7953"
             ],
             [
              0.7777777777777778,
              "#fb9f3a"
             ],
             [
              0.8888888888888888,
              "#fdca26"
             ],
             [
              1,
              "#f0f921"
             ]
            ],
            "type": "contour"
           }
          ],
          "contourcarpet": [
           {
            "colorbar": {
             "outlinewidth": 0,
             "ticks": ""
            },
            "type": "contourcarpet"
           }
          ],
          "heatmap": [
           {
            "colorbar": {
             "outlinewidth": 0,
             "ticks": ""
            },
            "colorscale": [
             [
              0,
              "#0d0887"
             ],
             [
              0.1111111111111111,
              "#46039f"
             ],
             [
              0.2222222222222222,
              "#7201a8"
             ],
             [
              0.3333333333333333,
              "#9c179e"
             ],
             [
              0.4444444444444444,
              "#bd3786"
             ],
             [
              0.5555555555555556,
              "#d8576b"
             ],
             [
              0.6666666666666666,
              "#ed7953"
             ],
             [
              0.7777777777777778,
              "#fb9f3a"
             ],
             [
              0.8888888888888888,
              "#fdca26"
             ],
             [
              1,
              "#f0f921"
             ]
            ],
            "type": "heatmap"
           }
          ],
          "heatmapgl": [
           {
            "colorbar": {
             "outlinewidth": 0,
             "ticks": ""
            },
            "colorscale": [
             [
              0,
              "#0d0887"
             ],
             [
              0.1111111111111111,
              "#46039f"
             ],
             [
              0.2222222222222222,
              "#7201a8"
             ],
             [
              0.3333333333333333,
              "#9c179e"
             ],
             [
              0.4444444444444444,
              "#bd3786"
             ],
             [
              0.5555555555555556,
              "#d8576b"
             ],
             [
              0.6666666666666666,
              "#ed7953"
             ],
             [
              0.7777777777777778,
              "#fb9f3a"
             ],
             [
              0.8888888888888888,
              "#fdca26"
             ],
             [
              1,
              "#f0f921"
             ]
            ],
            "type": "heatmapgl"
           }
          ],
          "histogram": [
           {
            "marker": {
             "pattern": {
              "fillmode": "overlay",
              "size": 10,
              "solidity": 0.2
             }
            },
            "type": "histogram"
           }
          ],
          "histogram2d": [
           {
            "colorbar": {
             "outlinewidth": 0,
             "ticks": ""
            },
            "colorscale": [
             [
              0,
              "#0d0887"
             ],
             [
              0.1111111111111111,
              "#46039f"
             ],
             [
              0.2222222222222222,
              "#7201a8"
             ],
             [
              0.3333333333333333,
              "#9c179e"
             ],
             [
              0.4444444444444444,
              "#bd3786"
             ],
             [
              0.5555555555555556,
              "#d8576b"
             ],
             [
              0.6666666666666666,
              "#ed7953"
             ],
             [
              0.7777777777777778,
              "#fb9f3a"
             ],
             [
              0.8888888888888888,
              "#fdca26"
             ],
             [
              1,
              "#f0f921"
             ]
            ],
            "type": "histogram2d"
           }
          ],
          "histogram2dcontour": [
           {
            "colorbar": {
             "outlinewidth": 0,
             "ticks": ""
            },
            "colorscale": [
             [
              0,
              "#0d0887"
             ],
             [
              0.1111111111111111,
              "#46039f"
             ],
             [
              0.2222222222222222,
              "#7201a8"
             ],
             [
              0.3333333333333333,
              "#9c179e"
             ],
             [
              0.4444444444444444,
              "#bd3786"
             ],
             [
              0.5555555555555556,
              "#d8576b"
             ],
             [
              0.6666666666666666,
              "#ed7953"
             ],
             [
              0.7777777777777778,
              "#fb9f3a"
             ],
             [
              0.8888888888888888,
              "#fdca26"
             ],
             [
              1,
              "#f0f921"
             ]
            ],
            "type": "histogram2dcontour"
           }
          ],
          "mesh3d": [
           {
            "colorbar": {
             "outlinewidth": 0,
             "ticks": ""
            },
            "type": "mesh3d"
           }
          ],
          "parcoords": [
           {
            "line": {
             "colorbar": {
              "outlinewidth": 0,
              "ticks": ""
             }
            },
            "type": "parcoords"
           }
          ],
          "pie": [
           {
            "automargin": true,
            "type": "pie"
           }
          ],
          "scatter": [
           {
            "fillpattern": {
             "fillmode": "overlay",
             "size": 10,
             "solidity": 0.2
            },
            "type": "scatter"
           }
          ],
          "scatter3d": [
           {
            "line": {
             "colorbar": {
              "outlinewidth": 0,
              "ticks": ""
             }
            },
            "marker": {
             "colorbar": {
              "outlinewidth": 0,
              "ticks": ""
             }
            },
            "type": "scatter3d"
           }
          ],
          "scattercarpet": [
           {
            "marker": {
             "colorbar": {
              "outlinewidth": 0,
              "ticks": ""
             }
            },
            "type": "scattercarpet"
           }
          ],
          "scattergeo": [
           {
            "marker": {
             "colorbar": {
              "outlinewidth": 0,
              "ticks": ""
             }
            },
            "type": "scattergeo"
           }
          ],
          "scattergl": [
           {
            "marker": {
             "colorbar": {
              "outlinewidth": 0,
              "ticks": ""
             }
            },
            "type": "scattergl"
           }
          ],
          "scattermapbox": [
           {
            "marker": {
             "colorbar": {
              "outlinewidth": 0,
              "ticks": ""
             }
            },
            "type": "scattermapbox"
           }
          ],
          "scatterpolar": [
           {
            "marker": {
             "colorbar": {
              "outlinewidth": 0,
              "ticks": ""
             }
            },
            "type": "scatterpolar"
           }
          ],
          "scatterpolargl": [
           {
            "marker": {
             "colorbar": {
              "outlinewidth": 0,
              "ticks": ""
             }
            },
            "type": "scatterpolargl"
           }
          ],
          "scatterternary": [
           {
            "marker": {
             "colorbar": {
              "outlinewidth": 0,
              "ticks": ""
             }
            },
            "type": "scatterternary"
           }
          ],
          "surface": [
           {
            "colorbar": {
             "outlinewidth": 0,
             "ticks": ""
            },
            "colorscale": [
             [
              0,
              "#0d0887"
             ],
             [
              0.1111111111111111,
              "#46039f"
             ],
             [
              0.2222222222222222,
              "#7201a8"
             ],
             [
              0.3333333333333333,
              "#9c179e"
             ],
             [
              0.4444444444444444,
              "#bd3786"
             ],
             [
              0.5555555555555556,
              "#d8576b"
             ],
             [
              0.6666666666666666,
              "#ed7953"
             ],
             [
              0.7777777777777778,
              "#fb9f3a"
             ],
             [
              0.8888888888888888,
              "#fdca26"
             ],
             [
              1,
              "#f0f921"
             ]
            ],
            "type": "surface"
           }
          ],
          "table": [
           {
            "cells": {
             "fill": {
              "color": "#EBF0F8"
             },
             "line": {
              "color": "white"
             }
            },
            "header": {
             "fill": {
              "color": "#C8D4E3"
             },
             "line": {
              "color": "white"
             }
            },
            "type": "table"
           }
          ]
         },
         "layout": {
          "annotationdefaults": {
           "arrowcolor": "#2a3f5f",
           "arrowhead": 0,
           "arrowwidth": 1
          },
          "autotypenumbers": "strict",
          "coloraxis": {
           "colorbar": {
            "outlinewidth": 0,
            "ticks": ""
           }
          },
          "colorscale": {
           "diverging": [
            [
             0,
             "#8e0152"
            ],
            [
             0.1,
             "#c51b7d"
            ],
            [
             0.2,
             "#de77ae"
            ],
            [
             0.3,
             "#f1b6da"
            ],
            [
             0.4,
             "#fde0ef"
            ],
            [
             0.5,
             "#f7f7f7"
            ],
            [
             0.6,
             "#e6f5d0"
            ],
            [
             0.7,
             "#b8e186"
            ],
            [
             0.8,
             "#7fbc41"
            ],
            [
             0.9,
             "#4d9221"
            ],
            [
             1,
             "#276419"
            ]
           ],
           "sequential": [
            [
             0,
             "#0d0887"
            ],
            [
             0.1111111111111111,
             "#46039f"
            ],
            [
             0.2222222222222222,
             "#7201a8"
            ],
            [
             0.3333333333333333,
             "#9c179e"
            ],
            [
             0.4444444444444444,
             "#bd3786"
            ],
            [
             0.5555555555555556,
             "#d8576b"
            ],
            [
             0.6666666666666666,
             "#ed7953"
            ],
            [
             0.7777777777777778,
             "#fb9f3a"
            ],
            [
             0.8888888888888888,
             "#fdca26"
            ],
            [
             1,
             "#f0f921"
            ]
           ],
           "sequentialminus": [
            [
             0,
             "#0d0887"
            ],
            [
             0.1111111111111111,
             "#46039f"
            ],
            [
             0.2222222222222222,
             "#7201a8"
            ],
            [
             0.3333333333333333,
             "#9c179e"
            ],
            [
             0.4444444444444444,
             "#bd3786"
            ],
            [
             0.5555555555555556,
             "#d8576b"
            ],
            [
             0.6666666666666666,
             "#ed7953"
            ],
            [
             0.7777777777777778,
             "#fb9f3a"
            ],
            [
             0.8888888888888888,
             "#fdca26"
            ],
            [
             1,
             "#f0f921"
            ]
           ]
          },
          "colorway": [
           "#636efa",
           "#EF553B",
           "#00cc96",
           "#ab63fa",
           "#FFA15A",
           "#19d3f3",
           "#FF6692",
           "#B6E880",
           "#FF97FF",
           "#FECB52"
          ],
          "font": {
           "color": "#2a3f5f"
          },
          "geo": {
           "bgcolor": "white",
           "lakecolor": "white",
           "landcolor": "#E5ECF6",
           "showlakes": true,
           "showland": true,
           "subunitcolor": "white"
          },
          "hoverlabel": {
           "align": "left"
          },
          "hovermode": "closest",
          "mapbox": {
           "style": "light"
          },
          "paper_bgcolor": "white",
          "plot_bgcolor": "#E5ECF6",
          "polar": {
           "angularaxis": {
            "gridcolor": "white",
            "linecolor": "white",
            "ticks": ""
           },
           "bgcolor": "#E5ECF6",
           "radialaxis": {
            "gridcolor": "white",
            "linecolor": "white",
            "ticks": ""
           }
          },
          "scene": {
           "xaxis": {
            "backgroundcolor": "#E5ECF6",
            "gridcolor": "white",
            "gridwidth": 2,
            "linecolor": "white",
            "showbackground": true,
            "ticks": "",
            "zerolinecolor": "white"
           },
           "yaxis": {
            "backgroundcolor": "#E5ECF6",
            "gridcolor": "white",
            "gridwidth": 2,
            "linecolor": "white",
            "showbackground": true,
            "ticks": "",
            "zerolinecolor": "white"
           },
           "zaxis": {
            "backgroundcolor": "#E5ECF6",
            "gridcolor": "white",
            "gridwidth": 2,
            "linecolor": "white",
            "showbackground": true,
            "ticks": "",
            "zerolinecolor": "white"
           }
          },
          "shapedefaults": {
           "line": {
            "color": "#2a3f5f"
           }
          },
          "ternary": {
           "aaxis": {
            "gridcolor": "white",
            "linecolor": "white",
            "ticks": ""
           },
           "baxis": {
            "gridcolor": "white",
            "linecolor": "white",
            "ticks": ""
           },
           "bgcolor": "#E5ECF6",
           "caxis": {
            "gridcolor": "white",
            "linecolor": "white",
            "ticks": ""
           }
          },
          "title": {
           "x": 0.05
          },
          "xaxis": {
           "automargin": true,
           "gridcolor": "white",
           "linecolor": "white",
           "ticks": "",
           "title": {
            "standoff": 15
           },
           "zerolinecolor": "white",
           "zerolinewidth": 2
          },
          "yaxis": {
           "automargin": true,
           "gridcolor": "white",
           "linecolor": "white",
           "ticks": "",
           "title": {
            "standoff": 15
           },
           "zerolinecolor": "white",
           "zerolinewidth": 2
          }
         }
        },
        "title": {
         "text": "Students versus Test Scores by Class Session",
         "x": 0.5,
         "xanchor": "center",
         "yanchor": "top"
        },
        "xaxis": {
         "anchor": "y",
         "domain": [
          0,
          1
         ],
         "title": {
          "text": ""
         }
        },
        "yaxis": {
         "anchor": "x",
         "domain": [
          0,
          1
         ],
         "title": {
          "text": "Test Scores"
         }
        }
       }
      },
      "text/html": [
       "<div>                            <div id=\"4a6b1199-4bde-48d0-9933-9f52c9175cb3\" class=\"plotly-graph-div\" style=\"height:525px; width:100%;\"></div>            <script type=\"text/javascript\">                require([\"plotly\"], function(Plotly) {                    window.PLOTLYENV=window.PLOTLYENV || {};                                    if (document.getElementById(\"4a6b1199-4bde-48d0-9933-9f52c9175cb3\")) {                    Plotly.newPlot(                        \"4a6b1199-4bde-48d0-9933-9f52c9175cb3\",                        [{\"hovertemplate\":\"ClassSession=Morning<br>Student=%{x}<br>value=%{y}<extra></extra>\",\"legendgroup\":\"Morning\",\"marker\":{\"color\":\"#636efa\",\"symbol\":\"circle\"},\"mode\":\"markers\",\"name\":\"Morning\",\"orientation\":\"v\",\"showlegend\":true,\"x\":[\"Taylor Miller\",\"Rebecca Clark\",\"Teresa Mills\",\"Benjamin Roberts\",\"Christina Blankenship\",\"Sarah Gross\",\"Andrew Roth\",\"Amber Wilson\",\"Brooke Pope\",\"Phillip Miller\",\"Christopher Myers\",\"Erin Sandoval\",\"Ryan Foster\",\"Colleen Coleman\",\"Lisa Weaver\",\"Sally Hernandez\",\"Sally Clark\",\"Mrs. Amanda Johnston\",\"Crystal Wiggins\",\"Jennifer Harrison\",\"Dawn Wyatt\",\"Amy Taylor\",\"Zachary Ward\",\"Leslie Hood\",\"Lori Mills\",\"Jose Lowe Jr.\",\"Andrew Pope\",\"Vanessa Contreras\",\"John Day\",\"Katherine Moore\",\"Justin Walker\",\"Emily Lopez\",\"Taylor Miller\",\"Rebecca Clark\",\"Teresa Mills\",\"Benjamin Roberts\",\"Christina Blankenship\",\"Sarah Gross\",\"Andrew Roth\",\"Amber Wilson\",\"Brooke Pope\",\"Phillip Miller\",\"Christopher Myers\",\"Erin Sandoval\",\"Ryan Foster\",\"Colleen Coleman\",\"Lisa Weaver\",\"Sally Hernandez\",\"Sally Clark\",\"Mrs. Amanda Johnston\",\"Crystal Wiggins\",\"Jennifer Harrison\",\"Dawn Wyatt\",\"Amy Taylor\",\"Zachary Ward\",\"Leslie Hood\",\"Lori Mills\",\"Jose Lowe Jr.\",\"Andrew Pope\",\"Vanessa Contreras\",\"John Day\",\"Katherine Moore\",\"Justin Walker\",\"Emily Lopez\",\"Taylor Miller\",\"Rebecca Clark\",\"Teresa Mills\",\"Benjamin Roberts\",\"Christina Blankenship\",\"Sarah Gross\",\"Andrew Roth\",\"Amber Wilson\",\"Brooke Pope\",\"Phillip Miller\",\"Christopher Myers\",\"Erin Sandoval\",\"Ryan Foster\",\"Colleen Coleman\",\"Lisa Weaver\",\"Sally Hernandez\",\"Sally Clark\",\"Mrs. Amanda Johnston\",\"Crystal Wiggins\",\"Jennifer Harrison\",\"Dawn Wyatt\",\"Amy Taylor\",\"Zachary Ward\",\"Leslie Hood\",\"Lori Mills\",\"Jose Lowe Jr.\",\"Andrew Pope\",\"Vanessa Contreras\",\"John Day\",\"Katherine Moore\",\"Justin Walker\",\"Emily Lopez\"],\"xaxis\":\"x\",\"y\":[98.0,85.0,91.0,83.0,90.0,86.0,89.0,83.0,87.0,86.0,80.0,82.0,87.0,81.0,72.0,90.0,92.0,82.0,78.0,78.0,76.0,89.0,82.0,72.0,81.0,72.0,76.0,76.0,77.0,70.0,80.0,61.0,86.0,85.0,74.0,80.0,77.0,74.0,78.0,85.0,79.0,76.0,78.0,77.0,71.0,74.0,88.0,71.0,72.0,80.0,74.0,79.0,75.0,72.0,73.0,74.0,74.0,78.0,74.0,74.0,69.0,80.0,63.0,55.0,90.0,90.0,95.0,95.0,91.0,96.0,88.0,86.0,86.0,89.0,90.0,89.0,89.0,92.0,87.0,86.0,83.0,84.0,94.0,89.0,94.0,83.0,87.0,95.0,84.0,88.0,88.0,88.0,91.0,87.0,87.0,57.0],\"yaxis\":\"y\",\"type\":\"scatter\"},{\"hovertemplate\":\"ClassSession=Evening<br>Student=%{x}<br>value=%{y}<extra></extra>\",\"legendgroup\":\"Evening\",\"marker\":{\"color\":\"#EF553B\",\"symbol\":\"circle\"},\"mode\":\"markers\",\"name\":\"Evening\",\"orientation\":\"v\",\"showlegend\":true,\"x\":[\"Daisy Payne\",\"Amy Forbes MD\",\"Debra Phillips\",\"Brittany Shaw\",\"Benjamin Bell\",\"Mrs. Linda Johnson\",\"Mark Johnson\",\"Julie Roach\",\"Alison Henry\",\"Amber Simon\",\"Amanda Barajas\",\"Vanessa Hull\",\"Jade Byrd\",\"Kelly Fuentes\",\"Steven Davis\",\"Brandon Ramsey\",\"Lori Welch\",\"Sandra Baker\",\"Jane Wu\",\"Antonio Griffin\",\"Rebecca Jones\",\"Jesus Hayes\",\"Rebecca Kelley\",\"Nicole Wheeler\",\"Wanda Velasquez\",\"John Howard\",\"David Green\",\"Angela Kidd\",\"Arthur Lopez\",\"Michael Heath\",\"Kenneth Barrett\",\"Richard Lee\",\"Sandra Morris\",\"Sheila Jones\",\"Blake Browning\",\"Jasmine Castillo\",\"Cynthia Jones\",\"Michael Carlson\",\"David Cooke\",\"Stephen Wu\",\"Kim Wallace\",\"Cole Richard\",\"Daisy Payne\",\"Amy Forbes MD\",\"Debra Phillips\",\"Brittany Shaw\",\"Benjamin Bell\",\"Mrs. Linda Johnson\",\"Mark Johnson\",\"Julie Roach\",\"Alison Henry\",\"Amber Simon\",\"Amanda Barajas\",\"Vanessa Hull\",\"Jade Byrd\",\"Kelly Fuentes\",\"Steven Davis\",\"Brandon Ramsey\",\"Lori Welch\",\"Sandra Baker\",\"Jane Wu\",\"Antonio Griffin\",\"Rebecca Jones\",\"Jesus Hayes\",\"Rebecca Kelley\",\"Nicole Wheeler\",\"Wanda Velasquez\",\"John Howard\",\"David Green\",\"Angela Kidd\",\"Arthur Lopez\",\"Michael Heath\",\"Kenneth Barrett\",\"Richard Lee\",\"Sandra Morris\",\"Sheila Jones\",\"Blake Browning\",\"Jasmine Castillo\",\"Cynthia Jones\",\"Michael Carlson\",\"David Cooke\",\"Stephen Wu\",\"Kim Wallace\",\"Cole Richard\",\"Daisy Payne\",\"Amy Forbes MD\",\"Debra Phillips\",\"Brittany Shaw\",\"Benjamin Bell\",\"Mrs. Linda Johnson\",\"Mark Johnson\",\"Julie Roach\",\"Alison Henry\",\"Amber Simon\",\"Amanda Barajas\",\"Vanessa Hull\",\"Jade Byrd\",\"Kelly Fuentes\",\"Steven Davis\",\"Brandon Ramsey\",\"Lori Welch\",\"Sandra Baker\",\"Jane Wu\",\"Antonio Griffin\",\"Rebecca Jones\",\"Jesus Hayes\",\"Rebecca Kelley\",\"Nicole Wheeler\",\"Wanda Velasquez\",\"John Howard\",\"David Green\",\"Angela Kidd\",\"Arthur Lopez\",\"Michael Heath\",\"Kenneth Barrett\",\"Richard Lee\",\"Sandra Morris\",\"Sheila Jones\",\"Blake Browning\",\"Jasmine Castillo\",\"Cynthia Jones\",\"Michael Carlson\",\"David Cooke\",\"Stephen Wu\",\"Kim Wallace\",\"Cole Richard\"],\"xaxis\":\"x\",\"y\":[88.0,80.0,83.0,73.0,84.0,65.0,90.0,77.0,73.0,84.0,71.0,84.0,66.0,72.0,76.0,80.0,80.0,81.0,76.0,86.0,75.0,74.0,78.0,67.0,66.0,67.0,80.0,75.0,71.0,72.0,79.0,59.0,62.0,70.0,71.0,71.0,69.0,69.0,63.0,66.0,66.0,73.0,90.0,72.0,67.0,70.0,77.0,82.0,66.0,76.0,76.0,70.0,74.0,66.0,76.0,81.0,66.0,65.0,69.0,67.0,67.0,62.0,68.0,68.0,65.0,65.0,65.0,73.0,70.0,63.0,68.0,59.0,61.0,64.0,66.0,72.0,68.0,66.0,70.0,69.0,71.0,66.0,58.0,56.0,95.0,100.0,99.0,100.0,79.0,93.0,83.0,85.0,89.0,82.0,87.0,81.0,89.0,78.0,89.0,85.0,81.0,79.0,84.0,77.0,80.0,81.0,79.0,90.0,91.0,81.0,69.0,80.0,79.0,87.0,78.0,92.0,86.0,70.0,72.0,73.0,70.0,67.0,71.0,71.0,68.0,56.0],\"yaxis\":\"y\",\"type\":\"scatter\"},{\"hovertemplate\":\"ClassSession=Afternoon<br>Student=%{x}<br>value=%{y}<extra></extra>\",\"legendgroup\":\"Afternoon\",\"marker\":{\"color\":\"#00cc96\",\"symbol\":\"circle\"},\"mode\":\"markers\",\"name\":\"Afternoon\",\"orientation\":\"v\",\"showlegend\":true,\"x\":[\"Tracey Ryan\",\"Kelly Young MD\",\"Sarah Rivers\",\"Michael Banks\",\"Travis Higgins\",\"Russell Johnson\",\"Daniel Rivera\",\"Jeremy Costa\",\"Chad Higgins\",\"Cole Irwin\",\"Amber Howard\",\"Jonathan Donovan\",\"Derrick Evans\",\"Melinda Ortiz\",\"Thomas Mccullough\",\"Danielle Singh\",\"Albert Ramirez\",\"Brittany Mcgee\",\"Heather Johnson\",\"Kimberly Price\",\"Laura Sawyer\",\"Jane Hayes\",\"Dennis Bishop\",\"Ashley Jones\",\"Peter Stark\",\"Jennifer Townsend\",\"Tracey Ryan\",\"Kelly Young MD\",\"Sarah Rivers\",\"Michael Banks\",\"Travis Higgins\",\"Russell Johnson\",\"Daniel Rivera\",\"Jeremy Costa\",\"Chad Higgins\",\"Cole Irwin\",\"Amber Howard\",\"Jonathan Donovan\",\"Derrick Evans\",\"Melinda Ortiz\",\"Thomas Mccullough\",\"Danielle Singh\",\"Albert Ramirez\",\"Brittany Mcgee\",\"Heather Johnson\",\"Kimberly Price\",\"Laura Sawyer\",\"Jane Hayes\",\"Dennis Bishop\",\"Ashley Jones\",\"Peter Stark\",\"Jennifer Townsend\",\"Tracey Ryan\",\"Kelly Young MD\",\"Sarah Rivers\",\"Michael Banks\",\"Travis Higgins\",\"Russell Johnson\",\"Daniel Rivera\",\"Jeremy Costa\",\"Chad Higgins\",\"Cole Irwin\",\"Amber Howard\",\"Jonathan Donovan\",\"Derrick Evans\",\"Melinda Ortiz\",\"Thomas Mccullough\",\"Danielle Singh\",\"Albert Ramirez\",\"Brittany Mcgee\",\"Heather Johnson\",\"Kimberly Price\",\"Laura Sawyer\",\"Jane Hayes\",\"Dennis Bishop\",\"Ashley Jones\",\"Peter Stark\",\"Jennifer Townsend\"],\"xaxis\":\"x\",\"y\":[82.0,81.0,86.0,70.0,82.0,70.0,79.0,76.0,80.0,75.0,82.0,80.0,80.0,74.0,77.0,82.0,68.0,71.0,77.0,74.0,79.0,74.0,72.0,71.0,74.0,50.0,80.0,66.0,67.0,73.0,69.0,81.0,67.0,72.0,68.0,76.0,64.0,60.0,66.0,58.0,73.0,73.0,80.0,76.0,62.0,69.0,51.0,65.0,61.0,53.0,58.0,61.0,90.0,100.0,91.0,100.0,89.0,89.0,92.0,89.0,87.0,84.0,87.0,92.0,85.0,97.0,77.0,70.0,77.0,77.0,84.0,80.0,92.0,81.0,82.0,89.0,76.0,75.0],\"yaxis\":\"y\",\"type\":\"scatter\"}],                        {\"template\":{\"data\":{\"histogram2dcontour\":[{\"type\":\"histogram2dcontour\",\"colorbar\":{\"outlinewidth\":0,\"ticks\":\"\"},\"colorscale\":[[0.0,\"#0d0887\"],[0.1111111111111111,\"#46039f\"],[0.2222222222222222,\"#7201a8\"],[0.3333333333333333,\"#9c179e\"],[0.4444444444444444,\"#bd3786\"],[0.5555555555555556,\"#d8576b\"],[0.6666666666666666,\"#ed7953\"],[0.7777777777777778,\"#fb9f3a\"],[0.8888888888888888,\"#fdca26\"],[1.0,\"#f0f921\"]]}],\"choropleth\":[{\"type\":\"choropleth\",\"colorbar\":{\"outlinewidth\":0,\"ticks\":\"\"}}],\"histogram2d\":[{\"type\":\"histogram2d\",\"colorbar\":{\"outlinewidth\":0,\"ticks\":\"\"},\"colorscale\":[[0.0,\"#0d0887\"],[0.1111111111111111,\"#46039f\"],[0.2222222222222222,\"#7201a8\"],[0.3333333333333333,\"#9c179e\"],[0.4444444444444444,\"#bd3786\"],[0.5555555555555556,\"#d8576b\"],[0.6666666666666666,\"#ed7953\"],[0.7777777777777778,\"#fb9f3a\"],[0.8888888888888888,\"#fdca26\"],[1.0,\"#f0f921\"]]}],\"heatmap\":[{\"type\":\"heatmap\",\"colorbar\":{\"outlinewidth\":0,\"ticks\":\"\"},\"colorscale\":[[0.0,\"#0d0887\"],[0.1111111111111111,\"#46039f\"],[0.2222222222222222,\"#7201a8\"],[0.3333333333333333,\"#9c179e\"],[0.4444444444444444,\"#bd3786\"],[0.5555555555555556,\"#d8576b\"],[0.6666666666666666,\"#ed7953\"],[0.7777777777777778,\"#fb9f3a\"],[0.8888888888888888,\"#fdca26\"],[1.0,\"#f0f921\"]]}],\"heatmapgl\":[{\"type\":\"heatmapgl\",\"colorbar\":{\"outlinewidth\":0,\"ticks\":\"\"},\"colorscale\":[[0.0,\"#0d0887\"],[0.1111111111111111,\"#46039f\"],[0.2222222222222222,\"#7201a8\"],[0.3333333333333333,\"#9c179e\"],[0.4444444444444444,\"#bd3786\"],[0.5555555555555556,\"#d8576b\"],[0.6666666666666666,\"#ed7953\"],[0.7777777777777778,\"#fb9f3a\"],[0.8888888888888888,\"#fdca26\"],[1.0,\"#f0f921\"]]}],\"contourcarpet\":[{\"type\":\"contourcarpet\",\"colorbar\":{\"outlinewidth\":0,\"ticks\":\"\"}}],\"contour\":[{\"type\":\"contour\",\"colorbar\":{\"outlinewidth\":0,\"ticks\":\"\"},\"colorscale\":[[0.0,\"#0d0887\"],[0.1111111111111111,\"#46039f\"],[0.2222222222222222,\"#7201a8\"],[0.3333333333333333,\"#9c179e\"],[0.4444444444444444,\"#bd3786\"],[0.5555555555555556,\"#d8576b\"],[0.6666666666666666,\"#ed7953\"],[0.7777777777777778,\"#fb9f3a\"],[0.8888888888888888,\"#fdca26\"],[1.0,\"#f0f921\"]]}],\"surface\":[{\"type\":\"surface\",\"colorbar\":{\"outlinewidth\":0,\"ticks\":\"\"},\"colorscale\":[[0.0,\"#0d0887\"],[0.1111111111111111,\"#46039f\"],[0.2222222222222222,\"#7201a8\"],[0.3333333333333333,\"#9c179e\"],[0.4444444444444444,\"#bd3786\"],[0.5555555555555556,\"#d8576b\"],[0.6666666666666666,\"#ed7953\"],[0.7777777777777778,\"#fb9f3a\"],[0.8888888888888888,\"#fdca26\"],[1.0,\"#f0f921\"]]}],\"mesh3d\":[{\"type\":\"mesh3d\",\"colorbar\":{\"outlinewidth\":0,\"ticks\":\"\"}}],\"scatter\":[{\"fillpattern\":{\"fillmode\":\"overlay\",\"size\":10,\"solidity\":0.2},\"type\":\"scatter\"}],\"parcoords\":[{\"type\":\"parcoords\",\"line\":{\"colorbar\":{\"outlinewidth\":0,\"ticks\":\"\"}}}],\"scatterpolargl\":[{\"type\":\"scatterpolargl\",\"marker\":{\"colorbar\":{\"outlinewidth\":0,\"ticks\":\"\"}}}],\"bar\":[{\"error_x\":{\"color\":\"#2a3f5f\"},\"error_y\":{\"color\":\"#2a3f5f\"},\"marker\":{\"line\":{\"color\":\"#E5ECF6\",\"width\":0.5},\"pattern\":{\"fillmode\":\"overlay\",\"size\":10,\"solidity\":0.2}},\"type\":\"bar\"}],\"scattergeo\":[{\"type\":\"scattergeo\",\"marker\":{\"colorbar\":{\"outlinewidth\":0,\"ticks\":\"\"}}}],\"scatterpolar\":[{\"type\":\"scatterpolar\",\"marker\":{\"colorbar\":{\"outlinewidth\":0,\"ticks\":\"\"}}}],\"histogram\":[{\"marker\":{\"pattern\":{\"fillmode\":\"overlay\",\"size\":10,\"solidity\":0.2}},\"type\":\"histogram\"}],\"scattergl\":[{\"type\":\"scattergl\",\"marker\":{\"colorbar\":{\"outlinewidth\":0,\"ticks\":\"\"}}}],\"scatter3d\":[{\"type\":\"scatter3d\",\"line\":{\"colorbar\":{\"outlinewidth\":0,\"ticks\":\"\"}},\"marker\":{\"colorbar\":{\"outlinewidth\":0,\"ticks\":\"\"}}}],\"scattermapbox\":[{\"type\":\"scattermapbox\",\"marker\":{\"colorbar\":{\"outlinewidth\":0,\"ticks\":\"\"}}}],\"scatterternary\":[{\"type\":\"scatterternary\",\"marker\":{\"colorbar\":{\"outlinewidth\":0,\"ticks\":\"\"}}}],\"scattercarpet\":[{\"type\":\"scattercarpet\",\"marker\":{\"colorbar\":{\"outlinewidth\":0,\"ticks\":\"\"}}}],\"carpet\":[{\"aaxis\":{\"endlinecolor\":\"#2a3f5f\",\"gridcolor\":\"white\",\"linecolor\":\"white\",\"minorgridcolor\":\"white\",\"startlinecolor\":\"#2a3f5f\"},\"baxis\":{\"endlinecolor\":\"#2a3f5f\",\"gridcolor\":\"white\",\"linecolor\":\"white\",\"minorgridcolor\":\"white\",\"startlinecolor\":\"#2a3f5f\"},\"type\":\"carpet\"}],\"table\":[{\"cells\":{\"fill\":{\"color\":\"#EBF0F8\"},\"line\":{\"color\":\"white\"}},\"header\":{\"fill\":{\"color\":\"#C8D4E3\"},\"line\":{\"color\":\"white\"}},\"type\":\"table\"}],\"barpolar\":[{\"marker\":{\"line\":{\"color\":\"#E5ECF6\",\"width\":0.5},\"pattern\":{\"fillmode\":\"overlay\",\"size\":10,\"solidity\":0.2}},\"type\":\"barpolar\"}],\"pie\":[{\"automargin\":true,\"type\":\"pie\"}]},\"layout\":{\"autotypenumbers\":\"strict\",\"colorway\":[\"#636efa\",\"#EF553B\",\"#00cc96\",\"#ab63fa\",\"#FFA15A\",\"#19d3f3\",\"#FF6692\",\"#B6E880\",\"#FF97FF\",\"#FECB52\"],\"font\":{\"color\":\"#2a3f5f\"},\"hovermode\":\"closest\",\"hoverlabel\":{\"align\":\"left\"},\"paper_bgcolor\":\"white\",\"plot_bgcolor\":\"#E5ECF6\",\"polar\":{\"bgcolor\":\"#E5ECF6\",\"angularaxis\":{\"gridcolor\":\"white\",\"linecolor\":\"white\",\"ticks\":\"\"},\"radialaxis\":{\"gridcolor\":\"white\",\"linecolor\":\"white\",\"ticks\":\"\"}},\"ternary\":{\"bgcolor\":\"#E5ECF6\",\"aaxis\":{\"gridcolor\":\"white\",\"linecolor\":\"white\",\"ticks\":\"\"},\"baxis\":{\"gridcolor\":\"white\",\"linecolor\":\"white\",\"ticks\":\"\"},\"caxis\":{\"gridcolor\":\"white\",\"linecolor\":\"white\",\"ticks\":\"\"}},\"coloraxis\":{\"colorbar\":{\"outlinewidth\":0,\"ticks\":\"\"}},\"colorscale\":{\"sequential\":[[0.0,\"#0d0887\"],[0.1111111111111111,\"#46039f\"],[0.2222222222222222,\"#7201a8\"],[0.3333333333333333,\"#9c179e\"],[0.4444444444444444,\"#bd3786\"],[0.5555555555555556,\"#d8576b\"],[0.6666666666666666,\"#ed7953\"],[0.7777777777777778,\"#fb9f3a\"],[0.8888888888888888,\"#fdca26\"],[1.0,\"#f0f921\"]],\"sequentialminus\":[[0.0,\"#0d0887\"],[0.1111111111111111,\"#46039f\"],[0.2222222222222222,\"#7201a8\"],[0.3333333333333333,\"#9c179e\"],[0.4444444444444444,\"#bd3786\"],[0.5555555555555556,\"#d8576b\"],[0.6666666666666666,\"#ed7953\"],[0.7777777777777778,\"#fb9f3a\"],[0.8888888888888888,\"#fdca26\"],[1.0,\"#f0f921\"]],\"diverging\":[[0,\"#8e0152\"],[0.1,\"#c51b7d\"],[0.2,\"#de77ae\"],[0.3,\"#f1b6da\"],[0.4,\"#fde0ef\"],[0.5,\"#f7f7f7\"],[0.6,\"#e6f5d0\"],[0.7,\"#b8e186\"],[0.8,\"#7fbc41\"],[0.9,\"#4d9221\"],[1,\"#276419\"]]},\"xaxis\":{\"gridcolor\":\"white\",\"linecolor\":\"white\",\"ticks\":\"\",\"title\":{\"standoff\":15},\"zerolinecolor\":\"white\",\"automargin\":true,\"zerolinewidth\":2},\"yaxis\":{\"gridcolor\":\"white\",\"linecolor\":\"white\",\"ticks\":\"\",\"title\":{\"standoff\":15},\"zerolinecolor\":\"white\",\"automargin\":true,\"zerolinewidth\":2},\"scene\":{\"xaxis\":{\"backgroundcolor\":\"#E5ECF6\",\"gridcolor\":\"white\",\"linecolor\":\"white\",\"showbackground\":true,\"ticks\":\"\",\"zerolinecolor\":\"white\",\"gridwidth\":2},\"yaxis\":{\"backgroundcolor\":\"#E5ECF6\",\"gridcolor\":\"white\",\"linecolor\":\"white\",\"showbackground\":true,\"ticks\":\"\",\"zerolinecolor\":\"white\",\"gridwidth\":2},\"zaxis\":{\"backgroundcolor\":\"#E5ECF6\",\"gridcolor\":\"white\",\"linecolor\":\"white\",\"showbackground\":true,\"ticks\":\"\",\"zerolinecolor\":\"white\",\"gridwidth\":2}},\"shapedefaults\":{\"line\":{\"color\":\"#2a3f5f\"}},\"annotationdefaults\":{\"arrowcolor\":\"#2a3f5f\",\"arrowhead\":0,\"arrowwidth\":1},\"geo\":{\"bgcolor\":\"white\",\"landcolor\":\"#E5ECF6\",\"subunitcolor\":\"white\",\"showland\":true,\"showlakes\":true,\"lakecolor\":\"white\"},\"title\":{\"x\":0.05},\"mapbox\":{\"style\":\"light\"}}},\"xaxis\":{\"anchor\":\"y\",\"domain\":[0.0,1.0],\"title\":{\"text\":\"\"}},\"yaxis\":{\"anchor\":\"x\",\"domain\":[0.0,1.0],\"title\":{\"text\":\"Test Scores\"}},\"legend\":{\"title\":{\"text\":\"ClassSession\"},\"tracegroupgap\":0},\"margin\":{\"t\":60},\"title\":{\"text\":\"Students versus Test Scores by Class Session\",\"xanchor\":\"center\",\"yanchor\":\"top\",\"x\":0.5}},                        {\"responsive\": true}                    ).then(function(){\n",
       "                            \n",
       "var gd = document.getElementById('4a6b1199-4bde-48d0-9933-9f52c9175cb3');\n",
       "var x = new MutationObserver(function (mutations, observer) {{\n",
       "        var display = window.getComputedStyle(gd).display;\n",
       "        if (!display || display === 'none') {{\n",
       "            console.log([gd, 'removed!']);\n",
       "            Plotly.purge(gd);\n",
       "            observer.disconnect();\n",
       "        }}\n",
       "}});\n",
       "\n",
       "// Listen for the removal of the full notebook cells\n",
       "var notebookContainer = gd.closest('#notebook-container');\n",
       "if (notebookContainer) {{\n",
       "    x.observe(notebookContainer, {childList: true});\n",
       "}}\n",
       "\n",
       "// Listen for the clearing of the current output cell\n",
       "var outputEl = gd.closest('.output');\n",
       "if (outputEl) {{\n",
       "    x.observe(outputEl, {childList: true});\n",
       "}}\n",
       "\n",
       "                        })                };                });            </script>        </div>"
      ]
     },
     "metadata": {},
     "output_type": "display_data"
    }
   ],
   "source": [
    "# Plot of Student Test Grades by Class Session:\n",
    "\n",
    "df = df.sort_values(by='Grade', ascending=False)\n",
    "\n",
    "plot = px.scatter(df, x='Student',\n",
    "                  y=['Test1', 'Test2', 'Test3'],\n",
    "                  color = \"ClassSession\")\n",
    "plot.update_layout(\n",
    "    title={'text': \"Students versus Test Scores by Class Session\",\n",
    "           'xanchor': 'center',\n",
    "           'yanchor': 'top',\n",
    "           'x': 0.5},\n",
    "    xaxis_title='',\n",
    "    yaxis_title='Test Scores')\n",
    "plot.show()"
   ]
  },
  {
   "cell_type": "code",
   "execution_count": 68,
   "id": "25e58d25",
   "metadata": {},
   "outputs": [
    {
     "data": {
      "application/vnd.plotly.v1+json": {
       "config": {
        "plotlyServerURL": "https://plotly.com"
       },
       "data": [
        {
         "hovertemplate": "ClassSession=Morning<br>Student=%{x}<br>Grade=%{y}<extra></extra>",
         "legendgroup": "Morning",
         "marker": {
          "color": "#636efa",
          "symbol": "circle"
         },
         "mode": "markers",
         "name": "Morning",
         "orientation": "v",
         "showlegend": true,
         "type": "scatter",
         "x": [
          "Taylor Miller",
          "Rebecca Clark",
          "Teresa Mills",
          "Benjamin Roberts",
          "Christina Blankenship",
          "Sarah Gross",
          "Andrew Roth",
          "Amber Wilson",
          "Brooke Pope",
          "Phillip Miller",
          "Christopher Myers",
          "Erin Sandoval",
          "Ryan Foster",
          "Colleen Coleman",
          "Lisa Weaver",
          "Sally Hernandez",
          "Sally Clark",
          "Mrs. Amanda Johnston",
          "Crystal Wiggins",
          "Jennifer Harrison",
          "Dawn Wyatt",
          "Amy Taylor",
          "Zachary Ward",
          "Leslie Hood",
          "Lori Mills",
          "Vanessa Contreras",
          "Jose Lowe Jr.",
          "Andrew Pope",
          "John Day",
          "Katherine Moore",
          "Justin Walker",
          "Emily Lopez"
         ],
         "xaxis": "x",
         "y": [
          91.3,
          86.7,
          86.7,
          86,
          86,
          85.3,
          85,
          84.7,
          84,
          83.7,
          82.7,
          82.7,
          82.3,
          82.3,
          82.3,
          82.3,
          82.3,
          82,
          82,
          82,
          81.7,
          81.3,
          80.7,
          80.3,
          79.7,
          79.3,
          79.3,
          79.3,
          79,
          79,
          76.7,
          57.7
         ],
         "yaxis": "y"
        },
        {
         "hovertemplate": "ClassSession=Evening<br>Student=%{x}<br>Grade=%{y}<extra></extra>",
         "legendgroup": "Evening",
         "marker": {
          "color": "#EF553B",
          "symbol": "circle"
         },
         "mode": "markers",
         "name": "Evening",
         "orientation": "v",
         "showlegend": true,
         "type": "scatter",
         "x": [
          "Daisy Payne",
          "Amy Forbes MD",
          "Debra Phillips",
          "Brittany Shaw",
          "Benjamin Bell",
          "Mrs. Linda Johnson",
          "Mark Johnson",
          "Alison Henry",
          "Julie Roach",
          "Amber Simon",
          "Amanda Barajas",
          "Vanessa Hull",
          "Jade Byrd",
          "Kelly Fuentes",
          "Steven Davis",
          "Brandon Ramsey",
          "Lori Welch",
          "Jane Wu",
          "Sandra Baker",
          "Antonio Griffin",
          "Rebecca Jones",
          "Jesus Hayes",
          "Wanda Velasquez",
          "Nicole Wheeler",
          "Rebecca Kelley",
          "John Howard",
          "David Green",
          "Angela Kidd",
          "Arthur Lopez",
          "Michael Heath",
          "Kenneth Barrett",
          "Richard Lee",
          "Sandra Morris",
          "Sheila Jones",
          "Blake Browning",
          "Jasmine Castillo",
          "Cynthia Jones",
          "Michael Carlson",
          "David Cooke",
          "Stephen Wu",
          "Kim Wallace",
          "Cole Richard"
         ],
         "xaxis": "x",
         "y": [
          91,
          84,
          83,
          81,
          80,
          80,
          79.7,
          79.3,
          79.3,
          78.7,
          77.3,
          77,
          77,
          77,
          77,
          76.7,
          76.7,
          75.7,
          75.7,
          75,
          74.3,
          74.3,
          74,
          74,
          74,
          73.7,
          73,
          72.7,
          72.7,
          72.7,
          72.7,
          71.7,
          71.3,
          70.7,
          70.3,
          70,
          69.7,
          68.3,
          68.3,
          67.7,
          64,
          61.7
         ],
         "yaxis": "y"
        },
        {
         "hovertemplate": "ClassSession=Afternoon<br>Student=%{x}<br>Grade=%{y}<extra></extra>",
         "legendgroup": "Afternoon",
         "marker": {
          "color": "#00cc96",
          "symbol": "circle"
         },
         "mode": "markers",
         "name": "Afternoon",
         "orientation": "v",
         "showlegend": true,
         "type": "scatter",
         "x": [
          "Tracey Ryan",
          "Kelly Young MD",
          "Sarah Rivers",
          "Michael Banks",
          "Travis Higgins",
          "Russell Johnson",
          "Daniel Rivera",
          "Jeremy Costa",
          "Chad Higgins",
          "Cole Irwin",
          "Amber Howard",
          "Jonathan Donovan",
          "Derrick Evans",
          "Melinda Ortiz",
          "Thomas Mccullough",
          "Danielle Singh",
          "Albert Ramirez",
          "Brittany Mcgee",
          "Heather Johnson",
          "Kimberly Price",
          "Laura Sawyer",
          "Jane Hayes",
          "Dennis Bishop",
          "Ashley Jones",
          "Peter Stark",
          "Jennifer Townsend"
         ],
         "xaxis": "x",
         "y": [
          84,
          82.3,
          81.3,
          81,
          80,
          80,
          79.3,
          79,
          78.3,
          78.3,
          77.7,
          77.3,
          77,
          76.3,
          75.7,
          75,
          75,
          74.7,
          74.3,
          74.3,
          74,
          73.3,
          71.7,
          71,
          69.3,
          62
         ],
         "yaxis": "y"
        }
       ],
       "layout": {
        "legend": {
         "title": {
          "text": "ClassSession"
         },
         "tracegroupgap": 0
        },
        "margin": {
         "t": 60
        },
        "shapes": [
         {
          "line": {
           "color": "red"
          },
          "type": "line",
          "x0": 0,
          "x1": 1,
          "xref": "x domain",
          "y0": 70,
          "y1": 70,
          "yref": "y"
         }
        ],
        "template": {
         "data": {
          "bar": [
           {
            "error_x": {
             "color": "#2a3f5f"
            },
            "error_y": {
             "color": "#2a3f5f"
            },
            "marker": {
             "line": {
              "color": "#E5ECF6",
              "width": 0.5
             },
             "pattern": {
              "fillmode": "overlay",
              "size": 10,
              "solidity": 0.2
             }
            },
            "type": "bar"
           }
          ],
          "barpolar": [
           {
            "marker": {
             "line": {
              "color": "#E5ECF6",
              "width": 0.5
             },
             "pattern": {
              "fillmode": "overlay",
              "size": 10,
              "solidity": 0.2
             }
            },
            "type": "barpolar"
           }
          ],
          "carpet": [
           {
            "aaxis": {
             "endlinecolor": "#2a3f5f",
             "gridcolor": "white",
             "linecolor": "white",
             "minorgridcolor": "white",
             "startlinecolor": "#2a3f5f"
            },
            "baxis": {
             "endlinecolor": "#2a3f5f",
             "gridcolor": "white",
             "linecolor": "white",
             "minorgridcolor": "white",
             "startlinecolor": "#2a3f5f"
            },
            "type": "carpet"
           }
          ],
          "choropleth": [
           {
            "colorbar": {
             "outlinewidth": 0,
             "ticks": ""
            },
            "type": "choropleth"
           }
          ],
          "contour": [
           {
            "colorbar": {
             "outlinewidth": 0,
             "ticks": ""
            },
            "colorscale": [
             [
              0,
              "#0d0887"
             ],
             [
              0.1111111111111111,
              "#46039f"
             ],
             [
              0.2222222222222222,
              "#7201a8"
             ],
             [
              0.3333333333333333,
              "#9c179e"
             ],
             [
              0.4444444444444444,
              "#bd3786"
             ],
             [
              0.5555555555555556,
              "#d8576b"
             ],
             [
              0.6666666666666666,
              "#ed7953"
             ],
             [
              0.7777777777777778,
              "#fb9f3a"
             ],
             [
              0.8888888888888888,
              "#fdca26"
             ],
             [
              1,
              "#f0f921"
             ]
            ],
            "type": "contour"
           }
          ],
          "contourcarpet": [
           {
            "colorbar": {
             "outlinewidth": 0,
             "ticks": ""
            },
            "type": "contourcarpet"
           }
          ],
          "heatmap": [
           {
            "colorbar": {
             "outlinewidth": 0,
             "ticks": ""
            },
            "colorscale": [
             [
              0,
              "#0d0887"
             ],
             [
              0.1111111111111111,
              "#46039f"
             ],
             [
              0.2222222222222222,
              "#7201a8"
             ],
             [
              0.3333333333333333,
              "#9c179e"
             ],
             [
              0.4444444444444444,
              "#bd3786"
             ],
             [
              0.5555555555555556,
              "#d8576b"
             ],
             [
              0.6666666666666666,
              "#ed7953"
             ],
             [
              0.7777777777777778,
              "#fb9f3a"
             ],
             [
              0.8888888888888888,
              "#fdca26"
             ],
             [
              1,
              "#f0f921"
             ]
            ],
            "type": "heatmap"
           }
          ],
          "heatmapgl": [
           {
            "colorbar": {
             "outlinewidth": 0,
             "ticks": ""
            },
            "colorscale": [
             [
              0,
              "#0d0887"
             ],
             [
              0.1111111111111111,
              "#46039f"
             ],
             [
              0.2222222222222222,
              "#7201a8"
             ],
             [
              0.3333333333333333,
              "#9c179e"
             ],
             [
              0.4444444444444444,
              "#bd3786"
             ],
             [
              0.5555555555555556,
              "#d8576b"
             ],
             [
              0.6666666666666666,
              "#ed7953"
             ],
             [
              0.7777777777777778,
              "#fb9f3a"
             ],
             [
              0.8888888888888888,
              "#fdca26"
             ],
             [
              1,
              "#f0f921"
             ]
            ],
            "type": "heatmapgl"
           }
          ],
          "histogram": [
           {
            "marker": {
             "pattern": {
              "fillmode": "overlay",
              "size": 10,
              "solidity": 0.2
             }
            },
            "type": "histogram"
           }
          ],
          "histogram2d": [
           {
            "colorbar": {
             "outlinewidth": 0,
             "ticks": ""
            },
            "colorscale": [
             [
              0,
              "#0d0887"
             ],
             [
              0.1111111111111111,
              "#46039f"
             ],
             [
              0.2222222222222222,
              "#7201a8"
             ],
             [
              0.3333333333333333,
              "#9c179e"
             ],
             [
              0.4444444444444444,
              "#bd3786"
             ],
             [
              0.5555555555555556,
              "#d8576b"
             ],
             [
              0.6666666666666666,
              "#ed7953"
             ],
             [
              0.7777777777777778,
              "#fb9f3a"
             ],
             [
              0.8888888888888888,
              "#fdca26"
             ],
             [
              1,
              "#f0f921"
             ]
            ],
            "type": "histogram2d"
           }
          ],
          "histogram2dcontour": [
           {
            "colorbar": {
             "outlinewidth": 0,
             "ticks": ""
            },
            "colorscale": [
             [
              0,
              "#0d0887"
             ],
             [
              0.1111111111111111,
              "#46039f"
             ],
             [
              0.2222222222222222,
              "#7201a8"
             ],
             [
              0.3333333333333333,
              "#9c179e"
             ],
             [
              0.4444444444444444,
              "#bd3786"
             ],
             [
              0.5555555555555556,
              "#d8576b"
             ],
             [
              0.6666666666666666,
              "#ed7953"
             ],
             [
              0.7777777777777778,
              "#fb9f3a"
             ],
             [
              0.8888888888888888,
              "#fdca26"
             ],
             [
              1,
              "#f0f921"
             ]
            ],
            "type": "histogram2dcontour"
           }
          ],
          "mesh3d": [
           {
            "colorbar": {
             "outlinewidth": 0,
             "ticks": ""
            },
            "type": "mesh3d"
           }
          ],
          "parcoords": [
           {
            "line": {
             "colorbar": {
              "outlinewidth": 0,
              "ticks": ""
             }
            },
            "type": "parcoords"
           }
          ],
          "pie": [
           {
            "automargin": true,
            "type": "pie"
           }
          ],
          "scatter": [
           {
            "fillpattern": {
             "fillmode": "overlay",
             "size": 10,
             "solidity": 0.2
            },
            "type": "scatter"
           }
          ],
          "scatter3d": [
           {
            "line": {
             "colorbar": {
              "outlinewidth": 0,
              "ticks": ""
             }
            },
            "marker": {
             "colorbar": {
              "outlinewidth": 0,
              "ticks": ""
             }
            },
            "type": "scatter3d"
           }
          ],
          "scattercarpet": [
           {
            "marker": {
             "colorbar": {
              "outlinewidth": 0,
              "ticks": ""
             }
            },
            "type": "scattercarpet"
           }
          ],
          "scattergeo": [
           {
            "marker": {
             "colorbar": {
              "outlinewidth": 0,
              "ticks": ""
             }
            },
            "type": "scattergeo"
           }
          ],
          "scattergl": [
           {
            "marker": {
             "colorbar": {
              "outlinewidth": 0,
              "ticks": ""
             }
            },
            "type": "scattergl"
           }
          ],
          "scattermapbox": [
           {
            "marker": {
             "colorbar": {
              "outlinewidth": 0,
              "ticks": ""
             }
            },
            "type": "scattermapbox"
           }
          ],
          "scatterpolar": [
           {
            "marker": {
             "colorbar": {
              "outlinewidth": 0,
              "ticks": ""
             }
            },
            "type": "scatterpolar"
           }
          ],
          "scatterpolargl": [
           {
            "marker": {
             "colorbar": {
              "outlinewidth": 0,
              "ticks": ""
             }
            },
            "type": "scatterpolargl"
           }
          ],
          "scatterternary": [
           {
            "marker": {
             "colorbar": {
              "outlinewidth": 0,
              "ticks": ""
             }
            },
            "type": "scatterternary"
           }
          ],
          "surface": [
           {
            "colorbar": {
             "outlinewidth": 0,
             "ticks": ""
            },
            "colorscale": [
             [
              0,
              "#0d0887"
             ],
             [
              0.1111111111111111,
              "#46039f"
             ],
             [
              0.2222222222222222,
              "#7201a8"
             ],
             [
              0.3333333333333333,
              "#9c179e"
             ],
             [
              0.4444444444444444,
              "#bd3786"
             ],
             [
              0.5555555555555556,
              "#d8576b"
             ],
             [
              0.6666666666666666,
              "#ed7953"
             ],
             [
              0.7777777777777778,
              "#fb9f3a"
             ],
             [
              0.8888888888888888,
              "#fdca26"
             ],
             [
              1,
              "#f0f921"
             ]
            ],
            "type": "surface"
           }
          ],
          "table": [
           {
            "cells": {
             "fill": {
              "color": "#EBF0F8"
             },
             "line": {
              "color": "white"
             }
            },
            "header": {
             "fill": {
              "color": "#C8D4E3"
             },
             "line": {
              "color": "white"
             }
            },
            "type": "table"
           }
          ]
         },
         "layout": {
          "annotationdefaults": {
           "arrowcolor": "#2a3f5f",
           "arrowhead": 0,
           "arrowwidth": 1
          },
          "autotypenumbers": "strict",
          "coloraxis": {
           "colorbar": {
            "outlinewidth": 0,
            "ticks": ""
           }
          },
          "colorscale": {
           "diverging": [
            [
             0,
             "#8e0152"
            ],
            [
             0.1,
             "#c51b7d"
            ],
            [
             0.2,
             "#de77ae"
            ],
            [
             0.3,
             "#f1b6da"
            ],
            [
             0.4,
             "#fde0ef"
            ],
            [
             0.5,
             "#f7f7f7"
            ],
            [
             0.6,
             "#e6f5d0"
            ],
            [
             0.7,
             "#b8e186"
            ],
            [
             0.8,
             "#7fbc41"
            ],
            [
             0.9,
             "#4d9221"
            ],
            [
             1,
             "#276419"
            ]
           ],
           "sequential": [
            [
             0,
             "#0d0887"
            ],
            [
             0.1111111111111111,
             "#46039f"
            ],
            [
             0.2222222222222222,
             "#7201a8"
            ],
            [
             0.3333333333333333,
             "#9c179e"
            ],
            [
             0.4444444444444444,
             "#bd3786"
            ],
            [
             0.5555555555555556,
             "#d8576b"
            ],
            [
             0.6666666666666666,
             "#ed7953"
            ],
            [
             0.7777777777777778,
             "#fb9f3a"
            ],
            [
             0.8888888888888888,
             "#fdca26"
            ],
            [
             1,
             "#f0f921"
            ]
           ],
           "sequentialminus": [
            [
             0,
             "#0d0887"
            ],
            [
             0.1111111111111111,
             "#46039f"
            ],
            [
             0.2222222222222222,
             "#7201a8"
            ],
            [
             0.3333333333333333,
             "#9c179e"
            ],
            [
             0.4444444444444444,
             "#bd3786"
            ],
            [
             0.5555555555555556,
             "#d8576b"
            ],
            [
             0.6666666666666666,
             "#ed7953"
            ],
            [
             0.7777777777777778,
             "#fb9f3a"
            ],
            [
             0.8888888888888888,
             "#fdca26"
            ],
            [
             1,
             "#f0f921"
            ]
           ]
          },
          "colorway": [
           "#636efa",
           "#EF553B",
           "#00cc96",
           "#ab63fa",
           "#FFA15A",
           "#19d3f3",
           "#FF6692",
           "#B6E880",
           "#FF97FF",
           "#FECB52"
          ],
          "font": {
           "color": "#2a3f5f"
          },
          "geo": {
           "bgcolor": "white",
           "lakecolor": "white",
           "landcolor": "#E5ECF6",
           "showlakes": true,
           "showland": true,
           "subunitcolor": "white"
          },
          "hoverlabel": {
           "align": "left"
          },
          "hovermode": "closest",
          "mapbox": {
           "style": "light"
          },
          "paper_bgcolor": "white",
          "plot_bgcolor": "#E5ECF6",
          "polar": {
           "angularaxis": {
            "gridcolor": "white",
            "linecolor": "white",
            "ticks": ""
           },
           "bgcolor": "#E5ECF6",
           "radialaxis": {
            "gridcolor": "white",
            "linecolor": "white",
            "ticks": ""
           }
          },
          "scene": {
           "xaxis": {
            "backgroundcolor": "#E5ECF6",
            "gridcolor": "white",
            "gridwidth": 2,
            "linecolor": "white",
            "showbackground": true,
            "ticks": "",
            "zerolinecolor": "white"
           },
           "yaxis": {
            "backgroundcolor": "#E5ECF6",
            "gridcolor": "white",
            "gridwidth": 2,
            "linecolor": "white",
            "showbackground": true,
            "ticks": "",
            "zerolinecolor": "white"
           },
           "zaxis": {
            "backgroundcolor": "#E5ECF6",
            "gridcolor": "white",
            "gridwidth": 2,
            "linecolor": "white",
            "showbackground": true,
            "ticks": "",
            "zerolinecolor": "white"
           }
          },
          "shapedefaults": {
           "line": {
            "color": "#2a3f5f"
           }
          },
          "ternary": {
           "aaxis": {
            "gridcolor": "white",
            "linecolor": "white",
            "ticks": ""
           },
           "baxis": {
            "gridcolor": "white",
            "linecolor": "white",
            "ticks": ""
           },
           "bgcolor": "#E5ECF6",
           "caxis": {
            "gridcolor": "white",
            "linecolor": "white",
            "ticks": ""
           }
          },
          "title": {
           "x": 0.05
          },
          "xaxis": {
           "automargin": true,
           "gridcolor": "white",
           "linecolor": "white",
           "ticks": "",
           "title": {
            "standoff": 15
           },
           "zerolinecolor": "white",
           "zerolinewidth": 2
          },
          "yaxis": {
           "automargin": true,
           "gridcolor": "white",
           "linecolor": "white",
           "ticks": "",
           "title": {
            "standoff": 15
           },
           "zerolinecolor": "white",
           "zerolinewidth": 2
          }
         }
        },
        "title": {
         "text": "Final Grades",
         "x": 0.5,
         "xanchor": "center",
         "yanchor": "top"
        },
        "xaxis": {
         "anchor": "y",
         "domain": [
          0,
          1
         ],
         "title": {
          "text": ""
         }
        },
        "yaxis": {
         "anchor": "x",
         "domain": [
          0,
          1
         ],
         "title": {
          "text": "Final Grade"
         }
        }
       }
      },
      "text/html": [
       "<div>                            <div id=\"2731a39c-87a3-4dd3-9d8d-4679193a156a\" class=\"plotly-graph-div\" style=\"height:525px; width:100%;\"></div>            <script type=\"text/javascript\">                require([\"plotly\"], function(Plotly) {                    window.PLOTLYENV=window.PLOTLYENV || {};                                    if (document.getElementById(\"2731a39c-87a3-4dd3-9d8d-4679193a156a\")) {                    Plotly.newPlot(                        \"2731a39c-87a3-4dd3-9d8d-4679193a156a\",                        [{\"hovertemplate\":\"ClassSession=Morning<br>Student=%{x}<br>Grade=%{y}<extra></extra>\",\"legendgroup\":\"Morning\",\"marker\":{\"color\":\"#636efa\",\"symbol\":\"circle\"},\"mode\":\"markers\",\"name\":\"Morning\",\"orientation\":\"v\",\"showlegend\":true,\"x\":[\"Taylor Miller\",\"Rebecca Clark\",\"Teresa Mills\",\"Benjamin Roberts\",\"Christina Blankenship\",\"Sarah Gross\",\"Andrew Roth\",\"Amber Wilson\",\"Brooke Pope\",\"Phillip Miller\",\"Christopher Myers\",\"Erin Sandoval\",\"Ryan Foster\",\"Colleen Coleman\",\"Lisa Weaver\",\"Sally Hernandez\",\"Sally Clark\",\"Mrs. Amanda Johnston\",\"Crystal Wiggins\",\"Jennifer Harrison\",\"Dawn Wyatt\",\"Amy Taylor\",\"Zachary Ward\",\"Leslie Hood\",\"Lori Mills\",\"Vanessa Contreras\",\"Jose Lowe Jr.\",\"Andrew Pope\",\"John Day\",\"Katherine Moore\",\"Justin Walker\",\"Emily Lopez\"],\"xaxis\":\"x\",\"y\":[91.3,86.7,86.7,86.0,86.0,85.3,85.0,84.7,84.0,83.7,82.7,82.7,82.3,82.3,82.3,82.3,82.3,82.0,82.0,82.0,81.7,81.3,80.7,80.3,79.7,79.3,79.3,79.3,79.0,79.0,76.7,57.7],\"yaxis\":\"y\",\"type\":\"scatter\"},{\"hovertemplate\":\"ClassSession=Evening<br>Student=%{x}<br>Grade=%{y}<extra></extra>\",\"legendgroup\":\"Evening\",\"marker\":{\"color\":\"#EF553B\",\"symbol\":\"circle\"},\"mode\":\"markers\",\"name\":\"Evening\",\"orientation\":\"v\",\"showlegend\":true,\"x\":[\"Daisy Payne\",\"Amy Forbes MD\",\"Debra Phillips\",\"Brittany Shaw\",\"Benjamin Bell\",\"Mrs. Linda Johnson\",\"Mark Johnson\",\"Alison Henry\",\"Julie Roach\",\"Amber Simon\",\"Amanda Barajas\",\"Vanessa Hull\",\"Jade Byrd\",\"Kelly Fuentes\",\"Steven Davis\",\"Brandon Ramsey\",\"Lori Welch\",\"Jane Wu\",\"Sandra Baker\",\"Antonio Griffin\",\"Rebecca Jones\",\"Jesus Hayes\",\"Wanda Velasquez\",\"Nicole Wheeler\",\"Rebecca Kelley\",\"John Howard\",\"David Green\",\"Angela Kidd\",\"Arthur Lopez\",\"Michael Heath\",\"Kenneth Barrett\",\"Richard Lee\",\"Sandra Morris\",\"Sheila Jones\",\"Blake Browning\",\"Jasmine Castillo\",\"Cynthia Jones\",\"Michael Carlson\",\"David Cooke\",\"Stephen Wu\",\"Kim Wallace\",\"Cole Richard\"],\"xaxis\":\"x\",\"y\":[91.0,84.0,83.0,81.0,80.0,80.0,79.7,79.3,79.3,78.7,77.3,77.0,77.0,77.0,77.0,76.7,76.7,75.7,75.7,75.0,74.3,74.3,74.0,74.0,74.0,73.7,73.0,72.7,72.7,72.7,72.7,71.7,71.3,70.7,70.3,70.0,69.7,68.3,68.3,67.7,64.0,61.7],\"yaxis\":\"y\",\"type\":\"scatter\"},{\"hovertemplate\":\"ClassSession=Afternoon<br>Student=%{x}<br>Grade=%{y}<extra></extra>\",\"legendgroup\":\"Afternoon\",\"marker\":{\"color\":\"#00cc96\",\"symbol\":\"circle\"},\"mode\":\"markers\",\"name\":\"Afternoon\",\"orientation\":\"v\",\"showlegend\":true,\"x\":[\"Tracey Ryan\",\"Kelly Young MD\",\"Sarah Rivers\",\"Michael Banks\",\"Travis Higgins\",\"Russell Johnson\",\"Daniel Rivera\",\"Jeremy Costa\",\"Chad Higgins\",\"Cole Irwin\",\"Amber Howard\",\"Jonathan Donovan\",\"Derrick Evans\",\"Melinda Ortiz\",\"Thomas Mccullough\",\"Danielle Singh\",\"Albert Ramirez\",\"Brittany Mcgee\",\"Heather Johnson\",\"Kimberly Price\",\"Laura Sawyer\",\"Jane Hayes\",\"Dennis Bishop\",\"Ashley Jones\",\"Peter Stark\",\"Jennifer Townsend\"],\"xaxis\":\"x\",\"y\":[84.0,82.3,81.3,81.0,80.0,80.0,79.3,79.0,78.3,78.3,77.7,77.3,77.0,76.3,75.7,75.0,75.0,74.7,74.3,74.3,74.0,73.3,71.7,71.0,69.3,62.0],\"yaxis\":\"y\",\"type\":\"scatter\"}],                        {\"template\":{\"data\":{\"histogram2dcontour\":[{\"type\":\"histogram2dcontour\",\"colorbar\":{\"outlinewidth\":0,\"ticks\":\"\"},\"colorscale\":[[0.0,\"#0d0887\"],[0.1111111111111111,\"#46039f\"],[0.2222222222222222,\"#7201a8\"],[0.3333333333333333,\"#9c179e\"],[0.4444444444444444,\"#bd3786\"],[0.5555555555555556,\"#d8576b\"],[0.6666666666666666,\"#ed7953\"],[0.7777777777777778,\"#fb9f3a\"],[0.8888888888888888,\"#fdca26\"],[1.0,\"#f0f921\"]]}],\"choropleth\":[{\"type\":\"choropleth\",\"colorbar\":{\"outlinewidth\":0,\"ticks\":\"\"}}],\"histogram2d\":[{\"type\":\"histogram2d\",\"colorbar\":{\"outlinewidth\":0,\"ticks\":\"\"},\"colorscale\":[[0.0,\"#0d0887\"],[0.1111111111111111,\"#46039f\"],[0.2222222222222222,\"#7201a8\"],[0.3333333333333333,\"#9c179e\"],[0.4444444444444444,\"#bd3786\"],[0.5555555555555556,\"#d8576b\"],[0.6666666666666666,\"#ed7953\"],[0.7777777777777778,\"#fb9f3a\"],[0.8888888888888888,\"#fdca26\"],[1.0,\"#f0f921\"]]}],\"heatmap\":[{\"type\":\"heatmap\",\"colorbar\":{\"outlinewidth\":0,\"ticks\":\"\"},\"colorscale\":[[0.0,\"#0d0887\"],[0.1111111111111111,\"#46039f\"],[0.2222222222222222,\"#7201a8\"],[0.3333333333333333,\"#9c179e\"],[0.4444444444444444,\"#bd3786\"],[0.5555555555555556,\"#d8576b\"],[0.6666666666666666,\"#ed7953\"],[0.7777777777777778,\"#fb9f3a\"],[0.8888888888888888,\"#fdca26\"],[1.0,\"#f0f921\"]]}],\"heatmapgl\":[{\"type\":\"heatmapgl\",\"colorbar\":{\"outlinewidth\":0,\"ticks\":\"\"},\"colorscale\":[[0.0,\"#0d0887\"],[0.1111111111111111,\"#46039f\"],[0.2222222222222222,\"#7201a8\"],[0.3333333333333333,\"#9c179e\"],[0.4444444444444444,\"#bd3786\"],[0.5555555555555556,\"#d8576b\"],[0.6666666666666666,\"#ed7953\"],[0.7777777777777778,\"#fb9f3a\"],[0.8888888888888888,\"#fdca26\"],[1.0,\"#f0f921\"]]}],\"contourcarpet\":[{\"type\":\"contourcarpet\",\"colorbar\":{\"outlinewidth\":0,\"ticks\":\"\"}}],\"contour\":[{\"type\":\"contour\",\"colorbar\":{\"outlinewidth\":0,\"ticks\":\"\"},\"colorscale\":[[0.0,\"#0d0887\"],[0.1111111111111111,\"#46039f\"],[0.2222222222222222,\"#7201a8\"],[0.3333333333333333,\"#9c179e\"],[0.4444444444444444,\"#bd3786\"],[0.5555555555555556,\"#d8576b\"],[0.6666666666666666,\"#ed7953\"],[0.7777777777777778,\"#fb9f3a\"],[0.8888888888888888,\"#fdca26\"],[1.0,\"#f0f921\"]]}],\"surface\":[{\"type\":\"surface\",\"colorbar\":{\"outlinewidth\":0,\"ticks\":\"\"},\"colorscale\":[[0.0,\"#0d0887\"],[0.1111111111111111,\"#46039f\"],[0.2222222222222222,\"#7201a8\"],[0.3333333333333333,\"#9c179e\"],[0.4444444444444444,\"#bd3786\"],[0.5555555555555556,\"#d8576b\"],[0.6666666666666666,\"#ed7953\"],[0.7777777777777778,\"#fb9f3a\"],[0.8888888888888888,\"#fdca26\"],[1.0,\"#f0f921\"]]}],\"mesh3d\":[{\"type\":\"mesh3d\",\"colorbar\":{\"outlinewidth\":0,\"ticks\":\"\"}}],\"scatter\":[{\"fillpattern\":{\"fillmode\":\"overlay\",\"size\":10,\"solidity\":0.2},\"type\":\"scatter\"}],\"parcoords\":[{\"type\":\"parcoords\",\"line\":{\"colorbar\":{\"outlinewidth\":0,\"ticks\":\"\"}}}],\"scatterpolargl\":[{\"type\":\"scatterpolargl\",\"marker\":{\"colorbar\":{\"outlinewidth\":0,\"ticks\":\"\"}}}],\"bar\":[{\"error_x\":{\"color\":\"#2a3f5f\"},\"error_y\":{\"color\":\"#2a3f5f\"},\"marker\":{\"line\":{\"color\":\"#E5ECF6\",\"width\":0.5},\"pattern\":{\"fillmode\":\"overlay\",\"size\":10,\"solidity\":0.2}},\"type\":\"bar\"}],\"scattergeo\":[{\"type\":\"scattergeo\",\"marker\":{\"colorbar\":{\"outlinewidth\":0,\"ticks\":\"\"}}}],\"scatterpolar\":[{\"type\":\"scatterpolar\",\"marker\":{\"colorbar\":{\"outlinewidth\":0,\"ticks\":\"\"}}}],\"histogram\":[{\"marker\":{\"pattern\":{\"fillmode\":\"overlay\",\"size\":10,\"solidity\":0.2}},\"type\":\"histogram\"}],\"scattergl\":[{\"type\":\"scattergl\",\"marker\":{\"colorbar\":{\"outlinewidth\":0,\"ticks\":\"\"}}}],\"scatter3d\":[{\"type\":\"scatter3d\",\"line\":{\"colorbar\":{\"outlinewidth\":0,\"ticks\":\"\"}},\"marker\":{\"colorbar\":{\"outlinewidth\":0,\"ticks\":\"\"}}}],\"scattermapbox\":[{\"type\":\"scattermapbox\",\"marker\":{\"colorbar\":{\"outlinewidth\":0,\"ticks\":\"\"}}}],\"scatterternary\":[{\"type\":\"scatterternary\",\"marker\":{\"colorbar\":{\"outlinewidth\":0,\"ticks\":\"\"}}}],\"scattercarpet\":[{\"type\":\"scattercarpet\",\"marker\":{\"colorbar\":{\"outlinewidth\":0,\"ticks\":\"\"}}}],\"carpet\":[{\"aaxis\":{\"endlinecolor\":\"#2a3f5f\",\"gridcolor\":\"white\",\"linecolor\":\"white\",\"minorgridcolor\":\"white\",\"startlinecolor\":\"#2a3f5f\"},\"baxis\":{\"endlinecolor\":\"#2a3f5f\",\"gridcolor\":\"white\",\"linecolor\":\"white\",\"minorgridcolor\":\"white\",\"startlinecolor\":\"#2a3f5f\"},\"type\":\"carpet\"}],\"table\":[{\"cells\":{\"fill\":{\"color\":\"#EBF0F8\"},\"line\":{\"color\":\"white\"}},\"header\":{\"fill\":{\"color\":\"#C8D4E3\"},\"line\":{\"color\":\"white\"}},\"type\":\"table\"}],\"barpolar\":[{\"marker\":{\"line\":{\"color\":\"#E5ECF6\",\"width\":0.5},\"pattern\":{\"fillmode\":\"overlay\",\"size\":10,\"solidity\":0.2}},\"type\":\"barpolar\"}],\"pie\":[{\"automargin\":true,\"type\":\"pie\"}]},\"layout\":{\"autotypenumbers\":\"strict\",\"colorway\":[\"#636efa\",\"#EF553B\",\"#00cc96\",\"#ab63fa\",\"#FFA15A\",\"#19d3f3\",\"#FF6692\",\"#B6E880\",\"#FF97FF\",\"#FECB52\"],\"font\":{\"color\":\"#2a3f5f\"},\"hovermode\":\"closest\",\"hoverlabel\":{\"align\":\"left\"},\"paper_bgcolor\":\"white\",\"plot_bgcolor\":\"#E5ECF6\",\"polar\":{\"bgcolor\":\"#E5ECF6\",\"angularaxis\":{\"gridcolor\":\"white\",\"linecolor\":\"white\",\"ticks\":\"\"},\"radialaxis\":{\"gridcolor\":\"white\",\"linecolor\":\"white\",\"ticks\":\"\"}},\"ternary\":{\"bgcolor\":\"#E5ECF6\",\"aaxis\":{\"gridcolor\":\"white\",\"linecolor\":\"white\",\"ticks\":\"\"},\"baxis\":{\"gridcolor\":\"white\",\"linecolor\":\"white\",\"ticks\":\"\"},\"caxis\":{\"gridcolor\":\"white\",\"linecolor\":\"white\",\"ticks\":\"\"}},\"coloraxis\":{\"colorbar\":{\"outlinewidth\":0,\"ticks\":\"\"}},\"colorscale\":{\"sequential\":[[0.0,\"#0d0887\"],[0.1111111111111111,\"#46039f\"],[0.2222222222222222,\"#7201a8\"],[0.3333333333333333,\"#9c179e\"],[0.4444444444444444,\"#bd3786\"],[0.5555555555555556,\"#d8576b\"],[0.6666666666666666,\"#ed7953\"],[0.7777777777777778,\"#fb9f3a\"],[0.8888888888888888,\"#fdca26\"],[1.0,\"#f0f921\"]],\"sequentialminus\":[[0.0,\"#0d0887\"],[0.1111111111111111,\"#46039f\"],[0.2222222222222222,\"#7201a8\"],[0.3333333333333333,\"#9c179e\"],[0.4444444444444444,\"#bd3786\"],[0.5555555555555556,\"#d8576b\"],[0.6666666666666666,\"#ed7953\"],[0.7777777777777778,\"#fb9f3a\"],[0.8888888888888888,\"#fdca26\"],[1.0,\"#f0f921\"]],\"diverging\":[[0,\"#8e0152\"],[0.1,\"#c51b7d\"],[0.2,\"#de77ae\"],[0.3,\"#f1b6da\"],[0.4,\"#fde0ef\"],[0.5,\"#f7f7f7\"],[0.6,\"#e6f5d0\"],[0.7,\"#b8e186\"],[0.8,\"#7fbc41\"],[0.9,\"#4d9221\"],[1,\"#276419\"]]},\"xaxis\":{\"gridcolor\":\"white\",\"linecolor\":\"white\",\"ticks\":\"\",\"title\":{\"standoff\":15},\"zerolinecolor\":\"white\",\"automargin\":true,\"zerolinewidth\":2},\"yaxis\":{\"gridcolor\":\"white\",\"linecolor\":\"white\",\"ticks\":\"\",\"title\":{\"standoff\":15},\"zerolinecolor\":\"white\",\"automargin\":true,\"zerolinewidth\":2},\"scene\":{\"xaxis\":{\"backgroundcolor\":\"#E5ECF6\",\"gridcolor\":\"white\",\"linecolor\":\"white\",\"showbackground\":true,\"ticks\":\"\",\"zerolinecolor\":\"white\",\"gridwidth\":2},\"yaxis\":{\"backgroundcolor\":\"#E5ECF6\",\"gridcolor\":\"white\",\"linecolor\":\"white\",\"showbackground\":true,\"ticks\":\"\",\"zerolinecolor\":\"white\",\"gridwidth\":2},\"zaxis\":{\"backgroundcolor\":\"#E5ECF6\",\"gridcolor\":\"white\",\"linecolor\":\"white\",\"showbackground\":true,\"ticks\":\"\",\"zerolinecolor\":\"white\",\"gridwidth\":2}},\"shapedefaults\":{\"line\":{\"color\":\"#2a3f5f\"}},\"annotationdefaults\":{\"arrowcolor\":\"#2a3f5f\",\"arrowhead\":0,\"arrowwidth\":1},\"geo\":{\"bgcolor\":\"white\",\"landcolor\":\"#E5ECF6\",\"subunitcolor\":\"white\",\"showland\":true,\"showlakes\":true,\"lakecolor\":\"white\"},\"title\":{\"x\":0.05},\"mapbox\":{\"style\":\"light\"}}},\"xaxis\":{\"anchor\":\"y\",\"domain\":[0.0,1.0],\"title\":{\"text\":\"\"}},\"yaxis\":{\"anchor\":\"x\",\"domain\":[0.0,1.0],\"title\":{\"text\":\"Final Grade\"}},\"legend\":{\"title\":{\"text\":\"ClassSession\"},\"tracegroupgap\":0},\"margin\":{\"t\":60},\"title\":{\"text\":\"Final Grades\",\"xanchor\":\"center\",\"yanchor\":\"top\",\"x\":0.5},\"shapes\":[{\"line\":{\"color\":\"red\"},\"type\":\"line\",\"x0\":0,\"x1\":1,\"xref\":\"x domain\",\"y0\":70,\"y1\":70,\"yref\":\"y\"}]},                        {\"responsive\": true}                    ).then(function(){\n",
       "                            \n",
       "var gd = document.getElementById('2731a39c-87a3-4dd3-9d8d-4679193a156a');\n",
       "var x = new MutationObserver(function (mutations, observer) {{\n",
       "        var display = window.getComputedStyle(gd).display;\n",
       "        if (!display || display === 'none') {{\n",
       "            console.log([gd, 'removed!']);\n",
       "            Plotly.purge(gd);\n",
       "            observer.disconnect();\n",
       "        }}\n",
       "}});\n",
       "\n",
       "// Listen for the removal of the full notebook cells\n",
       "var notebookContainer = gd.closest('#notebook-container');\n",
       "if (notebookContainer) {{\n",
       "    x.observe(notebookContainer, {childList: true});\n",
       "}}\n",
       "\n",
       "// Listen for the clearing of the current output cell\n",
       "var outputEl = gd.closest('.output');\n",
       "if (outputEl) {{\n",
       "    x.observe(outputEl, {childList: true});\n",
       "}}\n",
       "\n",
       "                        })                };                });            </script>        </div>"
      ]
     },
     "metadata": {},
     "output_type": "display_data"
    }
   ],
   "source": [
    "# Plot of final grades:\n",
    "\n",
    "df = df.sort_values(by='Grade', ascending=False)\n",
    "\n",
    "plot = px.scatter(df, x='Student',\n",
    "                  y='Grade',\n",
    "                  color = \"ClassSession\")\n",
    "plot.update_layout(\n",
    "    title={'text': \"Final Grades\",\n",
    "           'xanchor': 'center',\n",
    "           'yanchor': 'top',\n",
    "           'x': 0.5},\n",
    "    xaxis_title='',\n",
    "    yaxis_title='Final Grade')\n",
    "plot.add_hline(y=70, line_color='red')\n",
    "plot.show()"
   ]
  },
  {
   "cell_type": "markdown",
   "id": "5085305e",
   "metadata": {},
   "source": [
    "***"
   ]
  }
 ],
 "metadata": {
  "hide_input": false,
  "kernelspec": {
   "display_name": "Python 3",
   "language": "python",
   "name": "python3"
  },
  "language_info": {
   "codemirror_mode": {
    "name": "ipython",
    "version": 3
   },
   "file_extension": ".py",
   "mimetype": "text/x-python",
   "name": "python",
   "nbconvert_exporter": "python",
   "pygments_lexer": "ipython3",
   "version": "3.8.8"
  },
  "toc": {
   "base_numbering": 1,
   "nav_menu": {},
   "number_sections": true,
   "sideBar": true,
   "skip_h1_title": false,
   "title_cell": "Table of Contents",
   "title_sidebar": "Contents",
   "toc_cell": false,
   "toc_position": {},
   "toc_section_display": true,
   "toc_window_display": false
  }
 },
 "nbformat": 4,
 "nbformat_minor": 5
}
